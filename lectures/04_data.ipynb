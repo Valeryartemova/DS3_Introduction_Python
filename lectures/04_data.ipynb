{
 "cells": [
  {
   "cell_type": "markdown",
   "id": "d0ba3b68",
   "metadata": {
    "slideshow": {
     "slide_type": "slide"
    }
   },
   "source": [
    "# Part 4: Exploratory Data Analysis & Data Visualization\n",
    "\n",
    "## Introduction to Python\n",
    "\n",
    "### Tom Paskhalis\n",
    "\n",
    "##### 2022-07-27\n",
    "\n",
    "##### Data Science Summer School 2022"
   ]
  },
  {
   "cell_type": "markdown",
   "id": "633f0d9a",
   "metadata": {
    "slideshow": {
     "slide_type": "slide"
    }
   },
   "source": [
    "## Exploratory data analysis\n",
    "\n",
    "> *Exploratory data analysis can never be the whole story, but nothing else can serve as the foundation stone - as the first step.*    \n",
    ">    \n",
    "> [Tukey, 1977](https://archive.org/details/exploratorydataa0000tuke_7616)\n",
    "\n",
    "- Exploratory data analysis (EDA) is the first and often most important step in research\n",
    "- Study's feasibility, scope and framing would usually depend on its results\n",
    "- Specific details of EDA depend upon the type and quality of data available"
   ]
  },
  {
   "cell_type": "markdown",
   "id": "505c49db",
   "metadata": {
    "slideshow": {
     "slide_type": "slide"
    }
   },
   "source": [
    "## Measurement scales\n",
    "\n",
    "<div style=\"text-align: center;\">\n",
    "    <img width=\"700\" height=\"400\" src=\"imgs/Stevens1946_tab1.png\">\n",
    "</div>\n",
    "\n",
    "Source: [Stevens (1946)](https://doi.org/10.1126/science.103.2684.677)"
   ]
  },
  {
   "cell_type": "markdown",
   "id": "0715f64b",
   "metadata": {
    "slideshow": {
     "slide_type": "slide"
    }
   },
   "source": [
    "## Measurement scales in Pandas\n",
    "\n",
    "- The 4 measurement scales defined by Stevens (1946) can be roughly represented in pandas as follows:\n",
    "- *Interval* and *ratio* -> numeric\n",
    "- *Nominal* and *ordinal* -> [categorical](https://pandas.pydata.org/pandas-docs/stable/user_guide/categorical.html)"
   ]
  },
  {
   "cell_type": "markdown",
   "id": "1bb17a5f",
   "metadata": {
    "slideshow": {
     "slide_type": "slide"
    }
   },
   "source": [
    "## Loading the dataset"
   ]
  },
  {
   "cell_type": "code",
   "execution_count": 1,
   "id": "73a47bcf",
   "metadata": {
    "slideshow": {
     "slide_type": "fragment"
    }
   },
   "outputs": [],
   "source": [
    "import pandas as pd"
   ]
  },
  {
   "cell_type": "code",
   "execution_count": 2,
   "id": "2f43c2d8",
   "metadata": {
    "slideshow": {
     "slide_type": "fragment"
    }
   },
   "outputs": [],
   "source": [
    "united_2022 = pd.read_csv('../data/united_2022.csv')"
   ]
  },
  {
   "cell_type": "code",
   "execution_count": 3,
   "id": "57f8a218",
   "metadata": {
    "slideshow": {
     "slide_type": "fragment"
    }
   },
   "outputs": [
    {
     "data": {
      "text/html": [
       "<div>\n",
       "<style scoped>\n",
       "    .dataframe tbody tr th:only-of-type {\n",
       "        vertical-align: middle;\n",
       "    }\n",
       "\n",
       "    .dataframe tbody tr th {\n",
       "        vertical-align: top;\n",
       "    }\n",
       "\n",
       "    .dataframe thead th {\n",
       "        text-align: right;\n",
       "    }\n",
       "</style>\n",
       "<table border=\"1\" class=\"dataframe\">\n",
       "  <thead>\n",
       "    <tr style=\"text-align: right;\">\n",
       "      <th></th>\n",
       "      <th>Carrier Code</th>\n",
       "      <th>Date (MM/DD/YYYY)</th>\n",
       "      <th>Flight Number</th>\n",
       "      <th>Tail Number</th>\n",
       "      <th>Origin Airport</th>\n",
       "      <th>Destination Airport</th>\n",
       "      <th>Scheduled departure time</th>\n",
       "      <th>Actual departure time</th>\n",
       "      <th>Scheduled elapsed time (Minutes)</th>\n",
       "      <th>Actual elapsed time (Minutes)</th>\n",
       "      <th>Departure delay (Minutes)</th>\n",
       "      <th>Wheels-off time</th>\n",
       "      <th>Taxi-Out time (Minutes)</th>\n",
       "      <th>Delay Carrier (Minutes)</th>\n",
       "      <th>Delay Weather (Minutes)</th>\n",
       "      <th>Delay National Aviation System (Minutes)</th>\n",
       "      <th>Delay Security (Minutes)</th>\n",
       "      <th>Delay Late Aircraft Arrival (Minutes)</th>\n",
       "    </tr>\n",
       "  </thead>\n",
       "  <tbody>\n",
       "    <tr>\n",
       "      <th>0</th>\n",
       "      <td>UA</td>\n",
       "      <td>01/01/2022</td>\n",
       "      <td>225</td>\n",
       "      <td>N488UA</td>\n",
       "      <td>ATL</td>\n",
       "      <td>DEN</td>\n",
       "      <td>16:15:00</td>\n",
       "      <td>17:23:00</td>\n",
       "      <td>211</td>\n",
       "      <td>240</td>\n",
       "      <td>68</td>\n",
       "      <td>17:35:00</td>\n",
       "      <td>12</td>\n",
       "      <td>0</td>\n",
       "      <td>0</td>\n",
       "      <td>29</td>\n",
       "      <td>0</td>\n",
       "      <td>68</td>\n",
       "    </tr>\n",
       "  </tbody>\n",
       "</table>\n",
       "</div>"
      ],
      "text/plain": [
       "  Carrier Code Date (MM/DD/YYYY)  Flight Number Tail Number Origin Airport  \\\n",
       "0           UA        01/01/2022            225      N488UA            ATL   \n",
       "\n",
       "  Destination Airport Scheduled departure time Actual departure time  \\\n",
       "0                 DEN                 16:15:00              17:23:00   \n",
       "\n",
       "   Scheduled elapsed time (Minutes)  Actual elapsed time (Minutes)  \\\n",
       "0                               211                            240   \n",
       "\n",
       "   Departure delay (Minutes) Wheels-off time  Taxi-Out time (Minutes)  \\\n",
       "0                         68        17:35:00                       12   \n",
       "\n",
       "   Delay Carrier (Minutes)  Delay Weather (Minutes)  \\\n",
       "0                        0                        0   \n",
       "\n",
       "   Delay National Aviation System (Minutes)  Delay Security (Minutes)  \\\n",
       "0                                        29                         0   \n",
       "\n",
       "   Delay Late Aircraft Arrival (Minutes)  \n",
       "0                                     68  "
      ]
     },
     "execution_count": 3,
     "metadata": {},
     "output_type": "execute_result"
    }
   ],
   "source": [
    "united_2022.head(n = 1)"
   ]
  },
  {
   "cell_type": "markdown",
   "id": "41f601c6",
   "metadata": {
    "slideshow": {
     "slide_type": "slide"
    }
   },
   "source": [
    "## Summarizing numeric variables\n",
    "\n",
    "- DataFrame methods in pandas can automatically handle (exclude) missing data (`NaN`)"
   ]
  },
  {
   "cell_type": "code",
   "execution_count": 4,
   "id": "8b7600f3",
   "metadata": {
    "slideshow": {
     "slide_type": "fragment"
    }
   },
   "outputs": [
    {
     "data": {
      "text/html": [
       "<div>\n",
       "<style scoped>\n",
       "    .dataframe tbody tr th:only-of-type {\n",
       "        vertical-align: middle;\n",
       "    }\n",
       "\n",
       "    .dataframe tbody tr th {\n",
       "        vertical-align: top;\n",
       "    }\n",
       "\n",
       "    .dataframe thead th {\n",
       "        text-align: right;\n",
       "    }\n",
       "</style>\n",
       "<table border=\"1\" class=\"dataframe\">\n",
       "  <thead>\n",
       "    <tr style=\"text-align: right;\">\n",
       "      <th></th>\n",
       "      <th>Flight Number</th>\n",
       "      <th>Scheduled elapsed time (Minutes)</th>\n",
       "      <th>Actual elapsed time (Minutes)</th>\n",
       "      <th>Departure delay (Minutes)</th>\n",
       "      <th>Taxi-Out time (Minutes)</th>\n",
       "      <th>Delay Carrier (Minutes)</th>\n",
       "      <th>Delay Weather (Minutes)</th>\n",
       "      <th>Delay National Aviation System (Minutes)</th>\n",
       "      <th>Delay Security (Minutes)</th>\n",
       "      <th>Delay Late Aircraft Arrival (Minutes)</th>\n",
       "    </tr>\n",
       "  </thead>\n",
       "  <tbody>\n",
       "    <tr>\n",
       "      <th>count</th>\n",
       "      <td>154575.000000</td>\n",
       "      <td>154575.000000</td>\n",
       "      <td>154575.000000</td>\n",
       "      <td>154575.000000</td>\n",
       "      <td>154575.000000</td>\n",
       "      <td>154575.000000</td>\n",
       "      <td>154575.000000</td>\n",
       "      <td>154575.000000</td>\n",
       "      <td>154575.000000</td>\n",
       "      <td>154575.000000</td>\n",
       "    </tr>\n",
       "    <tr>\n",
       "      <th>mean</th>\n",
       "      <td>1442.155795</td>\n",
       "      <td>192.808876</td>\n",
       "      <td>180.380618</td>\n",
       "      <td>14.024842</td>\n",
       "      <td>18.978451</td>\n",
       "      <td>5.010209</td>\n",
       "      <td>0.552172</td>\n",
       "      <td>2.590923</td>\n",
       "      <td>0.001844</td>\n",
       "      <td>5.616122</td>\n",
       "    </tr>\n",
       "    <tr>\n",
       "      <th>std</th>\n",
       "      <td>732.636240</td>\n",
       "      <td>86.048770</td>\n",
       "      <td>88.502329</td>\n",
       "      <td>46.833963</td>\n",
       "      <td>10.081536</td>\n",
       "      <td>25.454662</td>\n",
       "      <td>12.039743</td>\n",
       "      <td>13.370774</td>\n",
       "      <td>0.281220</td>\n",
       "      <td>28.164622</td>\n",
       "    </tr>\n",
       "    <tr>\n",
       "      <th>min</th>\n",
       "      <td>42.000000</td>\n",
       "      <td>42.000000</td>\n",
       "      <td>0.000000</td>\n",
       "      <td>-29.000000</td>\n",
       "      <td>0.000000</td>\n",
       "      <td>0.000000</td>\n",
       "      <td>0.000000</td>\n",
       "      <td>0.000000</td>\n",
       "      <td>0.000000</td>\n",
       "      <td>0.000000</td>\n",
       "    </tr>\n",
       "    <tr>\n",
       "      <th>25%</th>\n",
       "      <td>691.000000</td>\n",
       "      <td>134.000000</td>\n",
       "      <td>123.000000</td>\n",
       "      <td>-4.000000</td>\n",
       "      <td>14.000000</td>\n",
       "      <td>0.000000</td>\n",
       "      <td>0.000000</td>\n",
       "      <td>0.000000</td>\n",
       "      <td>0.000000</td>\n",
       "      <td>0.000000</td>\n",
       "    </tr>\n",
       "    <tr>\n",
       "      <th>50%</th>\n",
       "      <td>1546.000000</td>\n",
       "      <td>173.000000</td>\n",
       "      <td>164.000000</td>\n",
       "      <td>0.000000</td>\n",
       "      <td>17.000000</td>\n",
       "      <td>0.000000</td>\n",
       "      <td>0.000000</td>\n",
       "      <td>0.000000</td>\n",
       "      <td>0.000000</td>\n",
       "      <td>0.000000</td>\n",
       "    </tr>\n",
       "    <tr>\n",
       "      <th>75%</th>\n",
       "      <td>2060.000000</td>\n",
       "      <td>239.000000</td>\n",
       "      <td>230.000000</td>\n",
       "      <td>12.000000</td>\n",
       "      <td>21.000000</td>\n",
       "      <td>0.000000</td>\n",
       "      <td>0.000000</td>\n",
       "      <td>0.000000</td>\n",
       "      <td>0.000000</td>\n",
       "      <td>0.000000</td>\n",
       "    </tr>\n",
       "    <tr>\n",
       "      <th>max</th>\n",
       "      <td>3010.000000</td>\n",
       "      <td>685.000000</td>\n",
       "      <td>711.000000</td>\n",
       "      <td>1403.000000</td>\n",
       "      <td>184.000000</td>\n",
       "      <td>1215.000000</td>\n",
       "      <td>876.000000</td>\n",
       "      <td>999.000000</td>\n",
       "      <td>70.000000</td>\n",
       "      <td>1280.000000</td>\n",
       "    </tr>\n",
       "  </tbody>\n",
       "</table>\n",
       "</div>"
      ],
      "text/plain": [
       "       Flight Number  Scheduled elapsed time (Minutes)  \\\n",
       "count  154575.000000                     154575.000000   \n",
       "mean     1442.155795                        192.808876   \n",
       "std       732.636240                         86.048770   \n",
       "min        42.000000                         42.000000   \n",
       "25%       691.000000                        134.000000   \n",
       "50%      1546.000000                        173.000000   \n",
       "75%      2060.000000                        239.000000   \n",
       "max      3010.000000                        685.000000   \n",
       "\n",
       "       Actual elapsed time (Minutes)  Departure delay (Minutes)  \\\n",
       "count                  154575.000000              154575.000000   \n",
       "mean                      180.380618                  14.024842   \n",
       "std                        88.502329                  46.833963   \n",
       "min                         0.000000                 -29.000000   \n",
       "25%                       123.000000                  -4.000000   \n",
       "50%                       164.000000                   0.000000   \n",
       "75%                       230.000000                  12.000000   \n",
       "max                       711.000000                1403.000000   \n",
       "\n",
       "       Taxi-Out time (Minutes)  Delay Carrier (Minutes)  \\\n",
       "count            154575.000000            154575.000000   \n",
       "mean                 18.978451                 5.010209   \n",
       "std                  10.081536                25.454662   \n",
       "min                   0.000000                 0.000000   \n",
       "25%                  14.000000                 0.000000   \n",
       "50%                  17.000000                 0.000000   \n",
       "75%                  21.000000                 0.000000   \n",
       "max                 184.000000              1215.000000   \n",
       "\n",
       "       Delay Weather (Minutes)  Delay National Aviation System (Minutes)  \\\n",
       "count            154575.000000                             154575.000000   \n",
       "mean                  0.552172                                  2.590923   \n",
       "std                  12.039743                                 13.370774   \n",
       "min                   0.000000                                  0.000000   \n",
       "25%                   0.000000                                  0.000000   \n",
       "50%                   0.000000                                  0.000000   \n",
       "75%                   0.000000                                  0.000000   \n",
       "max                 876.000000                                999.000000   \n",
       "\n",
       "       Delay Security (Minutes)  Delay Late Aircraft Arrival (Minutes)  \n",
       "count             154575.000000                          154575.000000  \n",
       "mean                   0.001844                               5.616122  \n",
       "std                    0.281220                              28.164622  \n",
       "min                    0.000000                               0.000000  \n",
       "25%                    0.000000                               0.000000  \n",
       "50%                    0.000000                               0.000000  \n",
       "75%                    0.000000                               0.000000  \n",
       "max                   70.000000                            1280.000000  "
      ]
     },
     "execution_count": 4,
     "metadata": {},
     "output_type": "execute_result"
    }
   ],
   "source": [
    "united_2022.describe() # DataFrame.describe() provides an range of summary statistics"
   ]
  },
  {
   "cell_type": "markdown",
   "id": "dc2a2872",
   "metadata": {
    "slideshow": {
     "slide_type": "slide"
    }
   },
   "source": [
    "## Methods for summarizing numeric variables"
   ]
  },
  {
   "cell_type": "code",
   "execution_count": 5,
   "id": "63139428",
   "metadata": {
    "slideshow": {
     "slide_type": "fragment"
    }
   },
   "outputs": [
    {
     "data": {
      "text/plain": [
       "14.024842309558467"
      ]
     },
     "execution_count": 5,
     "metadata": {},
     "output_type": "execute_result"
    }
   ],
   "source": [
    "# Rather than using describe(), we can apply individual methods\n",
    "united_2022['Departure delay (Minutes)'].mean()"
   ]
  },
  {
   "cell_type": "code",
   "execution_count": 6,
   "id": "30c6a9a3",
   "metadata": {
    "slideshow": {
     "slide_type": "fragment"
    }
   },
   "outputs": [
    {
     "data": {
      "text/plain": [
       "0.0"
      ]
     },
     "execution_count": 6,
     "metadata": {},
     "output_type": "execute_result"
    }
   ],
   "source": [
    "united_2022['Departure delay (Minutes)'].median() # Median"
   ]
  },
  {
   "cell_type": "code",
   "execution_count": 7,
   "id": "5060823c",
   "metadata": {
    "slideshow": {
     "slide_type": "fragment"
    }
   },
   "outputs": [
    {
     "data": {
      "text/plain": [
       "46.833962555880554"
      ]
     },
     "execution_count": 7,
     "metadata": {},
     "output_type": "execute_result"
    }
   ],
   "source": [
    "united_2022['Departure delay (Minutes)'].std() # Standard deviation"
   ]
  },
  {
   "cell_type": "code",
   "execution_count": 8,
   "id": "c1d7f2a5",
   "metadata": {
    "slideshow": {
     "slide_type": "fragment"
    }
   },
   "outputs": [
    {
     "data": {
      "text/plain": [
       "46.833962555880554"
      ]
     },
     "execution_count": 8,
     "metadata": {},
     "output_type": "execute_result"
    }
   ],
   "source": [
    "import statistics ## We don't have to rely only on methods provided by `pandas`\n",
    "statistics.stdev(united_2022.iloc[:,10])"
   ]
  },
  {
   "cell_type": "markdown",
   "id": "148257f4",
   "metadata": {
    "slideshow": {
     "slide_type": "slide"
    }
   },
   "source": [
    "## Summarizing categorical variables"
   ]
  },
  {
   "cell_type": "code",
   "execution_count": 9,
   "id": "42a2dee1",
   "metadata": {
    "slideshow": {
     "slide_type": "fragment"
    }
   },
   "outputs": [
    {
     "data": {
      "text/html": [
       "<div>\n",
       "<style scoped>\n",
       "    .dataframe tbody tr th:only-of-type {\n",
       "        vertical-align: middle;\n",
       "    }\n",
       "\n",
       "    .dataframe tbody tr th {\n",
       "        vertical-align: top;\n",
       "    }\n",
       "\n",
       "    .dataframe thead th {\n",
       "        text-align: right;\n",
       "    }\n",
       "</style>\n",
       "<table border=\"1\" class=\"dataframe\">\n",
       "  <thead>\n",
       "    <tr style=\"text-align: right;\">\n",
       "      <th></th>\n",
       "      <th>Carrier Code</th>\n",
       "      <th>Date (MM/DD/YYYY)</th>\n",
       "      <th>Flight Number</th>\n",
       "      <th>Tail Number</th>\n",
       "      <th>Origin Airport</th>\n",
       "      <th>Destination Airport</th>\n",
       "      <th>Scheduled departure time</th>\n",
       "      <th>Actual departure time</th>\n",
       "      <th>Scheduled elapsed time (Minutes)</th>\n",
       "      <th>Actual elapsed time (Minutes)</th>\n",
       "      <th>Departure delay (Minutes)</th>\n",
       "      <th>Wheels-off time</th>\n",
       "      <th>Taxi-Out time (Minutes)</th>\n",
       "      <th>Delay Carrier (Minutes)</th>\n",
       "      <th>Delay Weather (Minutes)</th>\n",
       "      <th>Delay National Aviation System (Minutes)</th>\n",
       "      <th>Delay Security (Minutes)</th>\n",
       "      <th>Delay Late Aircraft Arrival (Minutes)</th>\n",
       "    </tr>\n",
       "  </thead>\n",
       "  <tbody>\n",
       "    <tr>\n",
       "      <th>count</th>\n",
       "      <td>154575</td>\n",
       "      <td>154575</td>\n",
       "      <td>154575.000000</td>\n",
       "      <td>151157</td>\n",
       "      <td>154575</td>\n",
       "      <td>154575</td>\n",
       "      <td>154575</td>\n",
       "      <td>154575</td>\n",
       "      <td>154575.000000</td>\n",
       "      <td>154575.000000</td>\n",
       "      <td>154575.000000</td>\n",
       "      <td>154575</td>\n",
       "      <td>154575.000000</td>\n",
       "      <td>154575.000000</td>\n",
       "      <td>154575.000000</td>\n",
       "      <td>154575.000000</td>\n",
       "      <td>154575.000000</td>\n",
       "      <td>154575.000000</td>\n",
       "    </tr>\n",
       "    <tr>\n",
       "      <th>unique</th>\n",
       "      <td>1</td>\n",
       "      <td>151</td>\n",
       "      <td>NaN</td>\n",
       "      <td>747</td>\n",
       "      <td>12</td>\n",
       "      <td>110</td>\n",
       "      <td>1066</td>\n",
       "      <td>1307</td>\n",
       "      <td>NaN</td>\n",
       "      <td>NaN</td>\n",
       "      <td>NaN</td>\n",
       "      <td>1305</td>\n",
       "      <td>NaN</td>\n",
       "      <td>NaN</td>\n",
       "      <td>NaN</td>\n",
       "      <td>NaN</td>\n",
       "      <td>NaN</td>\n",
       "      <td>NaN</td>\n",
       "    </tr>\n",
       "    <tr>\n",
       "      <th>top</th>\n",
       "      <td>UA</td>\n",
       "      <td>05/26/2022</td>\n",
       "      <td>NaN</td>\n",
       "      <td>N32404</td>\n",
       "      <td>DEN</td>\n",
       "      <td>EWR</td>\n",
       "      <td>06:00:00</td>\n",
       "      <td>00:00:00</td>\n",
       "      <td>NaN</td>\n",
       "      <td>NaN</td>\n",
       "      <td>NaN</td>\n",
       "      <td>00:00:00</td>\n",
       "      <td>NaN</td>\n",
       "      <td>NaN</td>\n",
       "      <td>NaN</td>\n",
       "      <td>NaN</td>\n",
       "      <td>NaN</td>\n",
       "      <td>NaN</td>\n",
       "    </tr>\n",
       "    <tr>\n",
       "      <th>freq</th>\n",
       "      <td>154575</td>\n",
       "      <td>1143</td>\n",
       "      <td>NaN</td>\n",
       "      <td>337</td>\n",
       "      <td>32245</td>\n",
       "      <td>9800</td>\n",
       "      <td>1686</td>\n",
       "      <td>3418</td>\n",
       "      <td>NaN</td>\n",
       "      <td>NaN</td>\n",
       "      <td>NaN</td>\n",
       "      <td>3473</td>\n",
       "      <td>NaN</td>\n",
       "      <td>NaN</td>\n",
       "      <td>NaN</td>\n",
       "      <td>NaN</td>\n",
       "      <td>NaN</td>\n",
       "      <td>NaN</td>\n",
       "    </tr>\n",
       "    <tr>\n",
       "      <th>mean</th>\n",
       "      <td>NaN</td>\n",
       "      <td>NaN</td>\n",
       "      <td>1442.155795</td>\n",
       "      <td>NaN</td>\n",
       "      <td>NaN</td>\n",
       "      <td>NaN</td>\n",
       "      <td>NaN</td>\n",
       "      <td>NaN</td>\n",
       "      <td>192.808876</td>\n",
       "      <td>180.380618</td>\n",
       "      <td>14.024842</td>\n",
       "      <td>NaN</td>\n",
       "      <td>18.978451</td>\n",
       "      <td>5.010209</td>\n",
       "      <td>0.552172</td>\n",
       "      <td>2.590923</td>\n",
       "      <td>0.001844</td>\n",
       "      <td>5.616122</td>\n",
       "    </tr>\n",
       "    <tr>\n",
       "      <th>std</th>\n",
       "      <td>NaN</td>\n",
       "      <td>NaN</td>\n",
       "      <td>732.636240</td>\n",
       "      <td>NaN</td>\n",
       "      <td>NaN</td>\n",
       "      <td>NaN</td>\n",
       "      <td>NaN</td>\n",
       "      <td>NaN</td>\n",
       "      <td>86.048770</td>\n",
       "      <td>88.502329</td>\n",
       "      <td>46.833963</td>\n",
       "      <td>NaN</td>\n",
       "      <td>10.081536</td>\n",
       "      <td>25.454662</td>\n",
       "      <td>12.039743</td>\n",
       "      <td>13.370774</td>\n",
       "      <td>0.281220</td>\n",
       "      <td>28.164622</td>\n",
       "    </tr>\n",
       "    <tr>\n",
       "      <th>min</th>\n",
       "      <td>NaN</td>\n",
       "      <td>NaN</td>\n",
       "      <td>42.000000</td>\n",
       "      <td>NaN</td>\n",
       "      <td>NaN</td>\n",
       "      <td>NaN</td>\n",
       "      <td>NaN</td>\n",
       "      <td>NaN</td>\n",
       "      <td>42.000000</td>\n",
       "      <td>0.000000</td>\n",
       "      <td>-29.000000</td>\n",
       "      <td>NaN</td>\n",
       "      <td>0.000000</td>\n",
       "      <td>0.000000</td>\n",
       "      <td>0.000000</td>\n",
       "      <td>0.000000</td>\n",
       "      <td>0.000000</td>\n",
       "      <td>0.000000</td>\n",
       "    </tr>\n",
       "    <tr>\n",
       "      <th>25%</th>\n",
       "      <td>NaN</td>\n",
       "      <td>NaN</td>\n",
       "      <td>691.000000</td>\n",
       "      <td>NaN</td>\n",
       "      <td>NaN</td>\n",
       "      <td>NaN</td>\n",
       "      <td>NaN</td>\n",
       "      <td>NaN</td>\n",
       "      <td>134.000000</td>\n",
       "      <td>123.000000</td>\n",
       "      <td>-4.000000</td>\n",
       "      <td>NaN</td>\n",
       "      <td>14.000000</td>\n",
       "      <td>0.000000</td>\n",
       "      <td>0.000000</td>\n",
       "      <td>0.000000</td>\n",
       "      <td>0.000000</td>\n",
       "      <td>0.000000</td>\n",
       "    </tr>\n",
       "    <tr>\n",
       "      <th>50%</th>\n",
       "      <td>NaN</td>\n",
       "      <td>NaN</td>\n",
       "      <td>1546.000000</td>\n",
       "      <td>NaN</td>\n",
       "      <td>NaN</td>\n",
       "      <td>NaN</td>\n",
       "      <td>NaN</td>\n",
       "      <td>NaN</td>\n",
       "      <td>173.000000</td>\n",
       "      <td>164.000000</td>\n",
       "      <td>0.000000</td>\n",
       "      <td>NaN</td>\n",
       "      <td>17.000000</td>\n",
       "      <td>0.000000</td>\n",
       "      <td>0.000000</td>\n",
       "      <td>0.000000</td>\n",
       "      <td>0.000000</td>\n",
       "      <td>0.000000</td>\n",
       "    </tr>\n",
       "    <tr>\n",
       "      <th>75%</th>\n",
       "      <td>NaN</td>\n",
       "      <td>NaN</td>\n",
       "      <td>2060.000000</td>\n",
       "      <td>NaN</td>\n",
       "      <td>NaN</td>\n",
       "      <td>NaN</td>\n",
       "      <td>NaN</td>\n",
       "      <td>NaN</td>\n",
       "      <td>239.000000</td>\n",
       "      <td>230.000000</td>\n",
       "      <td>12.000000</td>\n",
       "      <td>NaN</td>\n",
       "      <td>21.000000</td>\n",
       "      <td>0.000000</td>\n",
       "      <td>0.000000</td>\n",
       "      <td>0.000000</td>\n",
       "      <td>0.000000</td>\n",
       "      <td>0.000000</td>\n",
       "    </tr>\n",
       "    <tr>\n",
       "      <th>max</th>\n",
       "      <td>NaN</td>\n",
       "      <td>NaN</td>\n",
       "      <td>3010.000000</td>\n",
       "      <td>NaN</td>\n",
       "      <td>NaN</td>\n",
       "      <td>NaN</td>\n",
       "      <td>NaN</td>\n",
       "      <td>NaN</td>\n",
       "      <td>685.000000</td>\n",
       "      <td>711.000000</td>\n",
       "      <td>1403.000000</td>\n",
       "      <td>NaN</td>\n",
       "      <td>184.000000</td>\n",
       "      <td>1215.000000</td>\n",
       "      <td>876.000000</td>\n",
       "      <td>999.000000</td>\n",
       "      <td>70.000000</td>\n",
       "      <td>1280.000000</td>\n",
       "    </tr>\n",
       "  </tbody>\n",
       "</table>\n",
       "</div>"
      ],
      "text/plain": [
       "       Carrier Code Date (MM/DD/YYYY)  Flight Number Tail Number  \\\n",
       "count        154575            154575  154575.000000      151157   \n",
       "unique            1               151            NaN         747   \n",
       "top              UA        05/26/2022            NaN      N32404   \n",
       "freq         154575              1143            NaN         337   \n",
       "mean            NaN               NaN    1442.155795         NaN   \n",
       "std             NaN               NaN     732.636240         NaN   \n",
       "min             NaN               NaN      42.000000         NaN   \n",
       "25%             NaN               NaN     691.000000         NaN   \n",
       "50%             NaN               NaN    1546.000000         NaN   \n",
       "75%             NaN               NaN    2060.000000         NaN   \n",
       "max             NaN               NaN    3010.000000         NaN   \n",
       "\n",
       "       Origin Airport Destination Airport Scheduled departure time  \\\n",
       "count          154575              154575                   154575   \n",
       "unique             12                 110                     1066   \n",
       "top               DEN                 EWR                 06:00:00   \n",
       "freq            32245                9800                     1686   \n",
       "mean              NaN                 NaN                      NaN   \n",
       "std               NaN                 NaN                      NaN   \n",
       "min               NaN                 NaN                      NaN   \n",
       "25%               NaN                 NaN                      NaN   \n",
       "50%               NaN                 NaN                      NaN   \n",
       "75%               NaN                 NaN                      NaN   \n",
       "max               NaN                 NaN                      NaN   \n",
       "\n",
       "       Actual departure time  Scheduled elapsed time (Minutes)  \\\n",
       "count                 154575                     154575.000000   \n",
       "unique                  1307                               NaN   \n",
       "top                 00:00:00                               NaN   \n",
       "freq                    3418                               NaN   \n",
       "mean                     NaN                        192.808876   \n",
       "std                      NaN                         86.048770   \n",
       "min                      NaN                         42.000000   \n",
       "25%                      NaN                        134.000000   \n",
       "50%                      NaN                        173.000000   \n",
       "75%                      NaN                        239.000000   \n",
       "max                      NaN                        685.000000   \n",
       "\n",
       "        Actual elapsed time (Minutes)  Departure delay (Minutes)  \\\n",
       "count                   154575.000000              154575.000000   \n",
       "unique                            NaN                        NaN   \n",
       "top                               NaN                        NaN   \n",
       "freq                              NaN                        NaN   \n",
       "mean                       180.380618                  14.024842   \n",
       "std                         88.502329                  46.833963   \n",
       "min                          0.000000                 -29.000000   \n",
       "25%                        123.000000                  -4.000000   \n",
       "50%                        164.000000                   0.000000   \n",
       "75%                        230.000000                  12.000000   \n",
       "max                        711.000000                1403.000000   \n",
       "\n",
       "       Wheels-off time  Taxi-Out time (Minutes)  Delay Carrier (Minutes)  \\\n",
       "count           154575            154575.000000            154575.000000   \n",
       "unique            1305                      NaN                      NaN   \n",
       "top           00:00:00                      NaN                      NaN   \n",
       "freq              3473                      NaN                      NaN   \n",
       "mean               NaN                18.978451                 5.010209   \n",
       "std                NaN                10.081536                25.454662   \n",
       "min                NaN                 0.000000                 0.000000   \n",
       "25%                NaN                14.000000                 0.000000   \n",
       "50%                NaN                17.000000                 0.000000   \n",
       "75%                NaN                21.000000                 0.000000   \n",
       "max                NaN               184.000000              1215.000000   \n",
       "\n",
       "        Delay Weather (Minutes)  Delay National Aviation System (Minutes)  \\\n",
       "count             154575.000000                             154575.000000   \n",
       "unique                      NaN                                       NaN   \n",
       "top                         NaN                                       NaN   \n",
       "freq                        NaN                                       NaN   \n",
       "mean                   0.552172                                  2.590923   \n",
       "std                   12.039743                                 13.370774   \n",
       "min                    0.000000                                  0.000000   \n",
       "25%                    0.000000                                  0.000000   \n",
       "50%                    0.000000                                  0.000000   \n",
       "75%                    0.000000                                  0.000000   \n",
       "max                  876.000000                                999.000000   \n",
       "\n",
       "        Delay Security (Minutes)  Delay Late Aircraft Arrival (Minutes)  \n",
       "count              154575.000000                          154575.000000  \n",
       "unique                       NaN                                    NaN  \n",
       "top                          NaN                                    NaN  \n",
       "freq                         NaN                                    NaN  \n",
       "mean                    0.001844                               5.616122  \n",
       "std                     0.281220                              28.164622  \n",
       "min                     0.000000                               0.000000  \n",
       "25%                     0.000000                               0.000000  \n",
       "50%                     0.000000                               0.000000  \n",
       "75%                     0.000000                               0.000000  \n",
       "max                    70.000000                            1280.000000  "
      ]
     },
     "execution_count": 9,
     "metadata": {},
     "output_type": "execute_result"
    }
   ],
   "source": [
    "united_2022.describe(include = 'all') # Adding include = 'all' tells pandas to summarize all variables"
   ]
  },
  {
   "cell_type": "markdown",
   "id": "bedd720f",
   "metadata": {
    "slideshow": {
     "slide_type": "slide"
    }
   },
   "source": [
    "## Methods for summarizing categorical variables"
   ]
  },
  {
   "cell_type": "code",
   "execution_count": 10,
   "id": "8abe71b7",
   "metadata": {
    "slideshow": {
     "slide_type": "fragment"
    }
   },
   "outputs": [
    {
     "data": {
      "text/plain": [
       "0    1561\n",
       "Name: Flight Number, dtype: int64"
      ]
     },
     "execution_count": 10,
     "metadata": {},
     "output_type": "execute_result"
    }
   ],
   "source": [
    "united_2022['Flight Number'].mode() # Mode, most frequent value"
   ]
  },
  {
   "cell_type": "code",
   "execution_count": 11,
   "id": "88434a32",
   "metadata": {
    "slideshow": {
     "slide_type": "fragment"
    }
   },
   "outputs": [
    {
     "data": {
      "text/plain": [
       "DEN    32245\n",
       "EWR    25761\n",
       "ORD    24767\n",
       "IAH    22561\n",
       "SFO    16511\n",
       "IAD    11286\n",
       "LAX     9986\n",
       "MCO     5680\n",
       "DFW     2658\n",
       "ATL     1297\n",
       "PHL     1221\n",
       "JFK      602\n",
       "Name: Origin Airport, dtype: int64"
      ]
     },
     "execution_count": 11,
     "metadata": {},
     "output_type": "execute_result"
    }
   ],
   "source": [
    "united_2022['Origin Airport'].value_counts() # Counts of unique values"
   ]
  },
  {
   "cell_type": "code",
   "execution_count": 12,
   "id": "845eed06",
   "metadata": {
    "slideshow": {
     "slide_type": "fragment"
    }
   },
   "outputs": [
    {
     "data": {
      "text/plain": [
       "DEN    0.208604\n",
       "EWR    0.166657\n",
       "ORD    0.160226\n",
       "IAH    0.145955\n",
       "SFO    0.106815\n",
       "IAD    0.073013\n",
       "LAX    0.064603\n",
       "MCO    0.036746\n",
       "DFW    0.017196\n",
       "ATL    0.008391\n",
       "PHL    0.007899\n",
       "JFK    0.003895\n",
       "Name: Origin Airport, dtype: float64"
      ]
     },
     "execution_count": 12,
     "metadata": {},
     "output_type": "execute_result"
    }
   ],
   "source": [
    "united_2022['Origin Airport'].value_counts(normalize = True) # We can further normalize them by the number of rows"
   ]
  },
  {
   "cell_type": "markdown",
   "id": "b13853f5",
   "metadata": {
    "slideshow": {
     "slide_type": "slide"
    }
   },
   "source": [
    "## Summary of descriptive statistics methods\n",
    "\n",
    "| Method         | Numeric   | Categorical   | Description                                    |\n",
    "|:---------------|:----------|:--------------|:-----------------------------------------------|\n",
    "| `count`        | yes       | yes           | Number of non-NA observations                  |\n",
    "| `value_counts` | yes       | yes           | Number of unique observations by value         |\n",
    "| `describe`     | yes       | yes           | Set of summary statistics for Series/DataFrame |\n",
    "| `min`, `max`   | yes       | yes (caution) | Minimum and maximum values                     |\n",
    "| `quantile`     | yes       | no            | Sample quantile ranging from 0 to 1            |\n",
    "| `sum`          | yes       | yes (caution) | Sum of values                                  |\n",
    "| `prod`         | yes       | no            | Product of values                              |\n",
    "| `mean`         | yes       | no            | Mean                                           |\n",
    "| `median`       | yes       | no            | Median (50% quantile)                          |\n",
    "| `var`          | yes       | no            | Sample variance                                |\n",
    "| `std`          | yes       | no            | Sample standard deviation                      |\n",
    "| `skew`         | yes       | no            | Sample skewness (third moment)                 |\n",
    "| `kurt`         | yes       | no            | Sample kurtosis (fourth moment)                |"
   ]
  },
  {
   "cell_type": "markdown",
   "id": "75cb4846",
   "metadata": {
    "slideshow": {
     "slide_type": "slide"
    }
   },
   "source": [
    "## Crosstabulation\n",
    "\n",
    "- When working with survey data it is often useful to perform simple crosstabulations\n",
    "- Crosstabulation (or *crosstab* for short) is a computation of group frequencies\n",
    "- It is usually used for working with categorical variables that have a limited number of categories\n",
    "- In pandas `pd.crosstab()` method is a special case of `pd.pivot_table()`"
   ]
  },
  {
   "cell_type": "markdown",
   "id": "ccd67c5f",
   "metadata": {
    "slideshow": {
     "slide_type": "slide"
    }
   },
   "source": [
    "## Crosstabulation in pandas"
   ]
  },
  {
   "cell_type": "code",
   "execution_count": 13,
   "id": "4743bd54",
   "metadata": {
    "slideshow": {
     "slide_type": "fragment"
    }
   },
   "outputs": [
    {
     "data": {
      "text/html": [
       "<div>\n",
       "<style scoped>\n",
       "    .dataframe tbody tr th:only-of-type {\n",
       "        vertical-align: middle;\n",
       "    }\n",
       "\n",
       "    .dataframe tbody tr th {\n",
       "        vertical-align: top;\n",
       "    }\n",
       "\n",
       "    .dataframe thead th {\n",
       "        text-align: right;\n",
       "    }\n",
       "</style>\n",
       "<table border=\"1\" class=\"dataframe\">\n",
       "  <thead>\n",
       "    <tr style=\"text-align: right;\">\n",
       "      <th>Destination Airport</th>\n",
       "      <th>ABQ</th>\n",
       "      <th>ALB</th>\n",
       "      <th>ANC</th>\n",
       "      <th>ATL</th>\n",
       "      <th>AUS</th>\n",
       "      <th>BDL</th>\n",
       "      <th>BIL</th>\n",
       "      <th>BNA</th>\n",
       "      <th>BOI</th>\n",
       "      <th>BOS</th>\n",
       "      <th>...</th>\n",
       "      <th>SLC</th>\n",
       "      <th>SMF</th>\n",
       "      <th>SNA</th>\n",
       "      <th>SRQ</th>\n",
       "      <th>STL</th>\n",
       "      <th>STT</th>\n",
       "      <th>SYR</th>\n",
       "      <th>TPA</th>\n",
       "      <th>TUL</th>\n",
       "      <th>TUS</th>\n",
       "    </tr>\n",
       "    <tr>\n",
       "      <th>Origin Airport</th>\n",
       "      <th></th>\n",
       "      <th></th>\n",
       "      <th></th>\n",
       "      <th></th>\n",
       "      <th></th>\n",
       "      <th></th>\n",
       "      <th></th>\n",
       "      <th></th>\n",
       "      <th></th>\n",
       "      <th></th>\n",
       "      <th></th>\n",
       "      <th></th>\n",
       "      <th></th>\n",
       "      <th></th>\n",
       "      <th></th>\n",
       "      <th></th>\n",
       "      <th></th>\n",
       "      <th></th>\n",
       "      <th></th>\n",
       "      <th></th>\n",
       "      <th></th>\n",
       "    </tr>\n",
       "  </thead>\n",
       "  <tbody>\n",
       "    <tr>\n",
       "      <th>ATL</th>\n",
       "      <td>0</td>\n",
       "      <td>0</td>\n",
       "      <td>0</td>\n",
       "      <td>0</td>\n",
       "      <td>0</td>\n",
       "      <td>0</td>\n",
       "      <td>0</td>\n",
       "      <td>0</td>\n",
       "      <td>0</td>\n",
       "      <td>0</td>\n",
       "      <td>...</td>\n",
       "      <td>0</td>\n",
       "      <td>0</td>\n",
       "      <td>0</td>\n",
       "      <td>0</td>\n",
       "      <td>0</td>\n",
       "      <td>0</td>\n",
       "      <td>0</td>\n",
       "      <td>0</td>\n",
       "      <td>0</td>\n",
       "      <td>0</td>\n",
       "    </tr>\n",
       "    <tr>\n",
       "      <th>DEN</th>\n",
       "      <td>267</td>\n",
       "      <td>0</td>\n",
       "      <td>154</td>\n",
       "      <td>313</td>\n",
       "      <td>585</td>\n",
       "      <td>151</td>\n",
       "      <td>300</td>\n",
       "      <td>151</td>\n",
       "      <td>300</td>\n",
       "      <td>670</td>\n",
       "      <td>...</td>\n",
       "      <td>422</td>\n",
       "      <td>633</td>\n",
       "      <td>617</td>\n",
       "      <td>151</td>\n",
       "      <td>257</td>\n",
       "      <td>0</td>\n",
       "      <td>110</td>\n",
       "      <td>565</td>\n",
       "      <td>108</td>\n",
       "      <td>232</td>\n",
       "    </tr>\n",
       "    <tr>\n",
       "      <th>DFW</th>\n",
       "      <td>0</td>\n",
       "      <td>0</td>\n",
       "      <td>0</td>\n",
       "      <td>0</td>\n",
       "      <td>0</td>\n",
       "      <td>0</td>\n",
       "      <td>0</td>\n",
       "      <td>0</td>\n",
       "      <td>0</td>\n",
       "      <td>0</td>\n",
       "      <td>...</td>\n",
       "      <td>0</td>\n",
       "      <td>0</td>\n",
       "      <td>0</td>\n",
       "      <td>0</td>\n",
       "      <td>0</td>\n",
       "      <td>0</td>\n",
       "      <td>0</td>\n",
       "      <td>0</td>\n",
       "      <td>0</td>\n",
       "      <td>0</td>\n",
       "    </tr>\n",
       "    <tr>\n",
       "      <th>EWR</th>\n",
       "      <td>0</td>\n",
       "      <td>0</td>\n",
       "      <td>0</td>\n",
       "      <td>586</td>\n",
       "      <td>553</td>\n",
       "      <td>0</td>\n",
       "      <td>0</td>\n",
       "      <td>346</td>\n",
       "      <td>0</td>\n",
       "      <td>1280</td>\n",
       "      <td>...</td>\n",
       "      <td>221</td>\n",
       "      <td>150</td>\n",
       "      <td>375</td>\n",
       "      <td>290</td>\n",
       "      <td>0</td>\n",
       "      <td>153</td>\n",
       "      <td>1</td>\n",
       "      <td>1157</td>\n",
       "      <td>0</td>\n",
       "      <td>0</td>\n",
       "    </tr>\n",
       "    <tr>\n",
       "      <th>IAD</th>\n",
       "      <td>0</td>\n",
       "      <td>0</td>\n",
       "      <td>0</td>\n",
       "      <td>147</td>\n",
       "      <td>270</td>\n",
       "      <td>340</td>\n",
       "      <td>0</td>\n",
       "      <td>162</td>\n",
       "      <td>0</td>\n",
       "      <td>480</td>\n",
       "      <td>...</td>\n",
       "      <td>0</td>\n",
       "      <td>88</td>\n",
       "      <td>0</td>\n",
       "      <td>2</td>\n",
       "      <td>0</td>\n",
       "      <td>151</td>\n",
       "      <td>123</td>\n",
       "      <td>400</td>\n",
       "      <td>0</td>\n",
       "      <td>0</td>\n",
       "    </tr>\n",
       "    <tr>\n",
       "      <th>IAH</th>\n",
       "      <td>68</td>\n",
       "      <td>0</td>\n",
       "      <td>0</td>\n",
       "      <td>23</td>\n",
       "      <td>897</td>\n",
       "      <td>86</td>\n",
       "      <td>0</td>\n",
       "      <td>112</td>\n",
       "      <td>0</td>\n",
       "      <td>464</td>\n",
       "      <td>...</td>\n",
       "      <td>139</td>\n",
       "      <td>175</td>\n",
       "      <td>537</td>\n",
       "      <td>0</td>\n",
       "      <td>96</td>\n",
       "      <td>130</td>\n",
       "      <td>0</td>\n",
       "      <td>637</td>\n",
       "      <td>118</td>\n",
       "      <td>36</td>\n",
       "    </tr>\n",
       "    <tr>\n",
       "      <th>JFK</th>\n",
       "      <td>0</td>\n",
       "      <td>0</td>\n",
       "      <td>0</td>\n",
       "      <td>0</td>\n",
       "      <td>0</td>\n",
       "      <td>0</td>\n",
       "      <td>0</td>\n",
       "      <td>0</td>\n",
       "      <td>0</td>\n",
       "      <td>0</td>\n",
       "      <td>...</td>\n",
       "      <td>0</td>\n",
       "      <td>0</td>\n",
       "      <td>0</td>\n",
       "      <td>0</td>\n",
       "      <td>0</td>\n",
       "      <td>0</td>\n",
       "      <td>0</td>\n",
       "      <td>0</td>\n",
       "      <td>0</td>\n",
       "      <td>0</td>\n",
       "    </tr>\n",
       "    <tr>\n",
       "      <th>LAX</th>\n",
       "      <td>0</td>\n",
       "      <td>0</td>\n",
       "      <td>0</td>\n",
       "      <td>0</td>\n",
       "      <td>111</td>\n",
       "      <td>0</td>\n",
       "      <td>0</td>\n",
       "      <td>0</td>\n",
       "      <td>0</td>\n",
       "      <td>250</td>\n",
       "      <td>...</td>\n",
       "      <td>0</td>\n",
       "      <td>0</td>\n",
       "      <td>0</td>\n",
       "      <td>0</td>\n",
       "      <td>0</td>\n",
       "      <td>0</td>\n",
       "      <td>0</td>\n",
       "      <td>142</td>\n",
       "      <td>0</td>\n",
       "      <td>0</td>\n",
       "    </tr>\n",
       "    <tr>\n",
       "      <th>MCO</th>\n",
       "      <td>0</td>\n",
       "      <td>0</td>\n",
       "      <td>0</td>\n",
       "      <td>0</td>\n",
       "      <td>0</td>\n",
       "      <td>0</td>\n",
       "      <td>0</td>\n",
       "      <td>0</td>\n",
       "      <td>0</td>\n",
       "      <td>0</td>\n",
       "      <td>...</td>\n",
       "      <td>0</td>\n",
       "      <td>0</td>\n",
       "      <td>0</td>\n",
       "      <td>0</td>\n",
       "      <td>0</td>\n",
       "      <td>0</td>\n",
       "      <td>0</td>\n",
       "      <td>0</td>\n",
       "      <td>0</td>\n",
       "      <td>0</td>\n",
       "    </tr>\n",
       "    <tr>\n",
       "      <th>ORD</th>\n",
       "      <td>29</td>\n",
       "      <td>199</td>\n",
       "      <td>66</td>\n",
       "      <td>205</td>\n",
       "      <td>518</td>\n",
       "      <td>314</td>\n",
       "      <td>0</td>\n",
       "      <td>141</td>\n",
       "      <td>0</td>\n",
       "      <td>643</td>\n",
       "      <td>...</td>\n",
       "      <td>105</td>\n",
       "      <td>280</td>\n",
       "      <td>497</td>\n",
       "      <td>224</td>\n",
       "      <td>0</td>\n",
       "      <td>40</td>\n",
       "      <td>108</td>\n",
       "      <td>576</td>\n",
       "      <td>0</td>\n",
       "      <td>72</td>\n",
       "    </tr>\n",
       "    <tr>\n",
       "      <th>PHL</th>\n",
       "      <td>0</td>\n",
       "      <td>0</td>\n",
       "      <td>0</td>\n",
       "      <td>0</td>\n",
       "      <td>0</td>\n",
       "      <td>0</td>\n",
       "      <td>0</td>\n",
       "      <td>0</td>\n",
       "      <td>0</td>\n",
       "      <td>0</td>\n",
       "      <td>...</td>\n",
       "      <td>0</td>\n",
       "      <td>0</td>\n",
       "      <td>0</td>\n",
       "      <td>0</td>\n",
       "      <td>0</td>\n",
       "      <td>0</td>\n",
       "      <td>0</td>\n",
       "      <td>0</td>\n",
       "      <td>0</td>\n",
       "      <td>0</td>\n",
       "    </tr>\n",
       "    <tr>\n",
       "      <th>SFO</th>\n",
       "      <td>81</td>\n",
       "      <td>0</td>\n",
       "      <td>0</td>\n",
       "      <td>26</td>\n",
       "      <td>421</td>\n",
       "      <td>0</td>\n",
       "      <td>0</td>\n",
       "      <td>150</td>\n",
       "      <td>0</td>\n",
       "      <td>425</td>\n",
       "      <td>...</td>\n",
       "      <td>63</td>\n",
       "      <td>0</td>\n",
       "      <td>488</td>\n",
       "      <td>0</td>\n",
       "      <td>0</td>\n",
       "      <td>0</td>\n",
       "      <td>0</td>\n",
       "      <td>248</td>\n",
       "      <td>0</td>\n",
       "      <td>0</td>\n",
       "    </tr>\n",
       "  </tbody>\n",
       "</table>\n",
       "<p>12 rows × 110 columns</p>\n",
       "</div>"
      ],
      "text/plain": [
       "Destination Airport  ABQ  ALB  ANC  ATL  AUS  BDL  BIL  BNA  BOI   BOS  ...  \\\n",
       "Origin Airport                                                          ...   \n",
       "ATL                    0    0    0    0    0    0    0    0    0     0  ...   \n",
       "DEN                  267    0  154  313  585  151  300  151  300   670  ...   \n",
       "DFW                    0    0    0    0    0    0    0    0    0     0  ...   \n",
       "EWR                    0    0    0  586  553    0    0  346    0  1280  ...   \n",
       "IAD                    0    0    0  147  270  340    0  162    0   480  ...   \n",
       "IAH                   68    0    0   23  897   86    0  112    0   464  ...   \n",
       "JFK                    0    0    0    0    0    0    0    0    0     0  ...   \n",
       "LAX                    0    0    0    0  111    0    0    0    0   250  ...   \n",
       "MCO                    0    0    0    0    0    0    0    0    0     0  ...   \n",
       "ORD                   29  199   66  205  518  314    0  141    0   643  ...   \n",
       "PHL                    0    0    0    0    0    0    0    0    0     0  ...   \n",
       "SFO                   81    0    0   26  421    0    0  150    0   425  ...   \n",
       "\n",
       "Destination Airport  SLC  SMF  SNA  SRQ  STL  STT  SYR   TPA  TUL  TUS  \n",
       "Origin Airport                                                          \n",
       "ATL                    0    0    0    0    0    0    0     0    0    0  \n",
       "DEN                  422  633  617  151  257    0  110   565  108  232  \n",
       "DFW                    0    0    0    0    0    0    0     0    0    0  \n",
       "EWR                  221  150  375  290    0  153    1  1157    0    0  \n",
       "IAD                    0   88    0    2    0  151  123   400    0    0  \n",
       "IAH                  139  175  537    0   96  130    0   637  118   36  \n",
       "JFK                    0    0    0    0    0    0    0     0    0    0  \n",
       "LAX                    0    0    0    0    0    0    0   142    0    0  \n",
       "MCO                    0    0    0    0    0    0    0     0    0    0  \n",
       "ORD                  105  280  497  224    0   40  108   576    0   72  \n",
       "PHL                    0    0    0    0    0    0    0     0    0    0  \n",
       "SFO                   63    0  488    0    0    0    0   248    0    0  \n",
       "\n",
       "[12 rows x 110 columns]"
      ]
     },
     "execution_count": 13,
     "metadata": {},
     "output_type": "execute_result"
    }
   ],
   "source": [
    "# Calculate crosstabulation between origin and destination airports\n",
    "pd.crosstab(united_2022['Origin Airport'], united_2022['Destination Airport'])"
   ]
  },
  {
   "cell_type": "markdown",
   "id": "e719960e",
   "metadata": {
    "slideshow": {
     "slide_type": "slide"
    }
   },
   "source": [
    "## Margins in crosstab"
   ]
  },
  {
   "cell_type": "code",
   "execution_count": 14,
   "id": "d5cbf8bf",
   "metadata": {
    "slideshow": {
     "slide_type": "fragment"
    }
   },
   "outputs": [
    {
     "data": {
      "text/html": [
       "<div>\n",
       "<style scoped>\n",
       "    .dataframe tbody tr th:only-of-type {\n",
       "        vertical-align: middle;\n",
       "    }\n",
       "\n",
       "    .dataframe tbody tr th {\n",
       "        vertical-align: top;\n",
       "    }\n",
       "\n",
       "    .dataframe thead th {\n",
       "        text-align: right;\n",
       "    }\n",
       "</style>\n",
       "<table border=\"1\" class=\"dataframe\">\n",
       "  <thead>\n",
       "    <tr style=\"text-align: right;\">\n",
       "      <th>Destination Airport</th>\n",
       "      <th>ABQ</th>\n",
       "      <th>ALB</th>\n",
       "      <th>ANC</th>\n",
       "      <th>ATL</th>\n",
       "      <th>AUS</th>\n",
       "      <th>BDL</th>\n",
       "      <th>BIL</th>\n",
       "      <th>BNA</th>\n",
       "      <th>BOI</th>\n",
       "      <th>BOS</th>\n",
       "      <th>...</th>\n",
       "      <th>SLC</th>\n",
       "      <th>SMF</th>\n",
       "      <th>SNA</th>\n",
       "      <th>SRQ</th>\n",
       "      <th>STL</th>\n",
       "      <th>STT</th>\n",
       "      <th>SYR</th>\n",
       "      <th>TPA</th>\n",
       "      <th>TUL</th>\n",
       "      <th>TUS</th>\n",
       "    </tr>\n",
       "    <tr>\n",
       "      <th>Origin Airport</th>\n",
       "      <th></th>\n",
       "      <th></th>\n",
       "      <th></th>\n",
       "      <th></th>\n",
       "      <th></th>\n",
       "      <th></th>\n",
       "      <th></th>\n",
       "      <th></th>\n",
       "      <th></th>\n",
       "      <th></th>\n",
       "      <th></th>\n",
       "      <th></th>\n",
       "      <th></th>\n",
       "      <th></th>\n",
       "      <th></th>\n",
       "      <th></th>\n",
       "      <th></th>\n",
       "      <th></th>\n",
       "      <th></th>\n",
       "      <th></th>\n",
       "      <th></th>\n",
       "    </tr>\n",
       "  </thead>\n",
       "  <tbody>\n",
       "    <tr>\n",
       "      <th>ATL</th>\n",
       "      <td>0.000000</td>\n",
       "      <td>0.0</td>\n",
       "      <td>0.0</td>\n",
       "      <td>0.000000</td>\n",
       "      <td>0.000000</td>\n",
       "      <td>0.000000</td>\n",
       "      <td>0.0</td>\n",
       "      <td>0.000000</td>\n",
       "      <td>0.0</td>\n",
       "      <td>0.000000</td>\n",
       "      <td>...</td>\n",
       "      <td>0.000000</td>\n",
       "      <td>0.000000</td>\n",
       "      <td>0.000000</td>\n",
       "      <td>0.000000</td>\n",
       "      <td>0.000000</td>\n",
       "      <td>0.000000</td>\n",
       "      <td>0.000000</td>\n",
       "      <td>0.000000</td>\n",
       "      <td>0.000000</td>\n",
       "      <td>0.000000</td>\n",
       "    </tr>\n",
       "    <tr>\n",
       "      <th>DEN</th>\n",
       "      <td>0.600000</td>\n",
       "      <td>0.0</td>\n",
       "      <td>0.7</td>\n",
       "      <td>0.240769</td>\n",
       "      <td>0.174367</td>\n",
       "      <td>0.169473</td>\n",
       "      <td>1.0</td>\n",
       "      <td>0.142185</td>\n",
       "      <td>1.0</td>\n",
       "      <td>0.159069</td>\n",
       "      <td>...</td>\n",
       "      <td>0.444211</td>\n",
       "      <td>0.477376</td>\n",
       "      <td>0.245426</td>\n",
       "      <td>0.226387</td>\n",
       "      <td>0.728045</td>\n",
       "      <td>0.000000</td>\n",
       "      <td>0.321637</td>\n",
       "      <td>0.151678</td>\n",
       "      <td>0.477876</td>\n",
       "      <td>0.682353</td>\n",
       "    </tr>\n",
       "    <tr>\n",
       "      <th>DFW</th>\n",
       "      <td>0.000000</td>\n",
       "      <td>0.0</td>\n",
       "      <td>0.0</td>\n",
       "      <td>0.000000</td>\n",
       "      <td>0.000000</td>\n",
       "      <td>0.000000</td>\n",
       "      <td>0.0</td>\n",
       "      <td>0.000000</td>\n",
       "      <td>0.0</td>\n",
       "      <td>0.000000</td>\n",
       "      <td>...</td>\n",
       "      <td>0.000000</td>\n",
       "      <td>0.000000</td>\n",
       "      <td>0.000000</td>\n",
       "      <td>0.000000</td>\n",
       "      <td>0.000000</td>\n",
       "      <td>0.000000</td>\n",
       "      <td>0.000000</td>\n",
       "      <td>0.000000</td>\n",
       "      <td>0.000000</td>\n",
       "      <td>0.000000</td>\n",
       "    </tr>\n",
       "    <tr>\n",
       "      <th>EWR</th>\n",
       "      <td>0.000000</td>\n",
       "      <td>0.0</td>\n",
       "      <td>0.0</td>\n",
       "      <td>0.450769</td>\n",
       "      <td>0.164829</td>\n",
       "      <td>0.000000</td>\n",
       "      <td>0.0</td>\n",
       "      <td>0.325800</td>\n",
       "      <td>0.0</td>\n",
       "      <td>0.303894</td>\n",
       "      <td>...</td>\n",
       "      <td>0.232632</td>\n",
       "      <td>0.113122</td>\n",
       "      <td>0.149165</td>\n",
       "      <td>0.434783</td>\n",
       "      <td>0.000000</td>\n",
       "      <td>0.322785</td>\n",
       "      <td>0.002924</td>\n",
       "      <td>0.310604</td>\n",
       "      <td>0.000000</td>\n",
       "      <td>0.000000</td>\n",
       "    </tr>\n",
       "    <tr>\n",
       "      <th>IAD</th>\n",
       "      <td>0.000000</td>\n",
       "      <td>0.0</td>\n",
       "      <td>0.0</td>\n",
       "      <td>0.113077</td>\n",
       "      <td>0.080477</td>\n",
       "      <td>0.381594</td>\n",
       "      <td>0.0</td>\n",
       "      <td>0.152542</td>\n",
       "      <td>0.0</td>\n",
       "      <td>0.113960</td>\n",
       "      <td>...</td>\n",
       "      <td>0.000000</td>\n",
       "      <td>0.066365</td>\n",
       "      <td>0.000000</td>\n",
       "      <td>0.002999</td>\n",
       "      <td>0.000000</td>\n",
       "      <td>0.318565</td>\n",
       "      <td>0.359649</td>\n",
       "      <td>0.107383</td>\n",
       "      <td>0.000000</td>\n",
       "      <td>0.000000</td>\n",
       "    </tr>\n",
       "    <tr>\n",
       "      <th>IAH</th>\n",
       "      <td>0.152809</td>\n",
       "      <td>0.0</td>\n",
       "      <td>0.0</td>\n",
       "      <td>0.017692</td>\n",
       "      <td>0.267362</td>\n",
       "      <td>0.096521</td>\n",
       "      <td>0.0</td>\n",
       "      <td>0.105461</td>\n",
       "      <td>0.0</td>\n",
       "      <td>0.110161</td>\n",
       "      <td>...</td>\n",
       "      <td>0.146316</td>\n",
       "      <td>0.131976</td>\n",
       "      <td>0.213604</td>\n",
       "      <td>0.000000</td>\n",
       "      <td>0.271955</td>\n",
       "      <td>0.274262</td>\n",
       "      <td>0.000000</td>\n",
       "      <td>0.171007</td>\n",
       "      <td>0.522124</td>\n",
       "      <td>0.105882</td>\n",
       "    </tr>\n",
       "    <tr>\n",
       "      <th>JFK</th>\n",
       "      <td>0.000000</td>\n",
       "      <td>0.0</td>\n",
       "      <td>0.0</td>\n",
       "      <td>0.000000</td>\n",
       "      <td>0.000000</td>\n",
       "      <td>0.000000</td>\n",
       "      <td>0.0</td>\n",
       "      <td>0.000000</td>\n",
       "      <td>0.0</td>\n",
       "      <td>0.000000</td>\n",
       "      <td>...</td>\n",
       "      <td>0.000000</td>\n",
       "      <td>0.000000</td>\n",
       "      <td>0.000000</td>\n",
       "      <td>0.000000</td>\n",
       "      <td>0.000000</td>\n",
       "      <td>0.000000</td>\n",
       "      <td>0.000000</td>\n",
       "      <td>0.000000</td>\n",
       "      <td>0.000000</td>\n",
       "      <td>0.000000</td>\n",
       "    </tr>\n",
       "    <tr>\n",
       "      <th>LAX</th>\n",
       "      <td>0.000000</td>\n",
       "      <td>0.0</td>\n",
       "      <td>0.0</td>\n",
       "      <td>0.000000</td>\n",
       "      <td>0.033085</td>\n",
       "      <td>0.000000</td>\n",
       "      <td>0.0</td>\n",
       "      <td>0.000000</td>\n",
       "      <td>0.0</td>\n",
       "      <td>0.059354</td>\n",
       "      <td>...</td>\n",
       "      <td>0.000000</td>\n",
       "      <td>0.000000</td>\n",
       "      <td>0.000000</td>\n",
       "      <td>0.000000</td>\n",
       "      <td>0.000000</td>\n",
       "      <td>0.000000</td>\n",
       "      <td>0.000000</td>\n",
       "      <td>0.038121</td>\n",
       "      <td>0.000000</td>\n",
       "      <td>0.000000</td>\n",
       "    </tr>\n",
       "    <tr>\n",
       "      <th>MCO</th>\n",
       "      <td>0.000000</td>\n",
       "      <td>0.0</td>\n",
       "      <td>0.0</td>\n",
       "      <td>0.000000</td>\n",
       "      <td>0.000000</td>\n",
       "      <td>0.000000</td>\n",
       "      <td>0.0</td>\n",
       "      <td>0.000000</td>\n",
       "      <td>0.0</td>\n",
       "      <td>0.000000</td>\n",
       "      <td>...</td>\n",
       "      <td>0.000000</td>\n",
       "      <td>0.000000</td>\n",
       "      <td>0.000000</td>\n",
       "      <td>0.000000</td>\n",
       "      <td>0.000000</td>\n",
       "      <td>0.000000</td>\n",
       "      <td>0.000000</td>\n",
       "      <td>0.000000</td>\n",
       "      <td>0.000000</td>\n",
       "      <td>0.000000</td>\n",
       "    </tr>\n",
       "    <tr>\n",
       "      <th>ORD</th>\n",
       "      <td>0.065169</td>\n",
       "      <td>1.0</td>\n",
       "      <td>0.3</td>\n",
       "      <td>0.157692</td>\n",
       "      <td>0.154396</td>\n",
       "      <td>0.352413</td>\n",
       "      <td>0.0</td>\n",
       "      <td>0.132768</td>\n",
       "      <td>0.0</td>\n",
       "      <td>0.152659</td>\n",
       "      <td>...</td>\n",
       "      <td>0.110526</td>\n",
       "      <td>0.211161</td>\n",
       "      <td>0.197693</td>\n",
       "      <td>0.335832</td>\n",
       "      <td>0.000000</td>\n",
       "      <td>0.084388</td>\n",
       "      <td>0.315789</td>\n",
       "      <td>0.154631</td>\n",
       "      <td>0.000000</td>\n",
       "      <td>0.211765</td>\n",
       "    </tr>\n",
       "    <tr>\n",
       "      <th>PHL</th>\n",
       "      <td>0.000000</td>\n",
       "      <td>0.0</td>\n",
       "      <td>0.0</td>\n",
       "      <td>0.000000</td>\n",
       "      <td>0.000000</td>\n",
       "      <td>0.000000</td>\n",
       "      <td>0.0</td>\n",
       "      <td>0.000000</td>\n",
       "      <td>0.0</td>\n",
       "      <td>0.000000</td>\n",
       "      <td>...</td>\n",
       "      <td>0.000000</td>\n",
       "      <td>0.000000</td>\n",
       "      <td>0.000000</td>\n",
       "      <td>0.000000</td>\n",
       "      <td>0.000000</td>\n",
       "      <td>0.000000</td>\n",
       "      <td>0.000000</td>\n",
       "      <td>0.000000</td>\n",
       "      <td>0.000000</td>\n",
       "      <td>0.000000</td>\n",
       "    </tr>\n",
       "    <tr>\n",
       "      <th>SFO</th>\n",
       "      <td>0.182022</td>\n",
       "      <td>0.0</td>\n",
       "      <td>0.0</td>\n",
       "      <td>0.020000</td>\n",
       "      <td>0.125484</td>\n",
       "      <td>0.000000</td>\n",
       "      <td>0.0</td>\n",
       "      <td>0.141243</td>\n",
       "      <td>0.0</td>\n",
       "      <td>0.100902</td>\n",
       "      <td>...</td>\n",
       "      <td>0.066316</td>\n",
       "      <td>0.000000</td>\n",
       "      <td>0.194113</td>\n",
       "      <td>0.000000</td>\n",
       "      <td>0.000000</td>\n",
       "      <td>0.000000</td>\n",
       "      <td>0.000000</td>\n",
       "      <td>0.066577</td>\n",
       "      <td>0.000000</td>\n",
       "      <td>0.000000</td>\n",
       "    </tr>\n",
       "  </tbody>\n",
       "</table>\n",
       "<p>12 rows × 110 columns</p>\n",
       "</div>"
      ],
      "text/plain": [
       "Destination Airport       ABQ  ALB  ANC       ATL       AUS       BDL  BIL  \\\n",
       "Origin Airport                                                               \n",
       "ATL                  0.000000  0.0  0.0  0.000000  0.000000  0.000000  0.0   \n",
       "DEN                  0.600000  0.0  0.7  0.240769  0.174367  0.169473  1.0   \n",
       "DFW                  0.000000  0.0  0.0  0.000000  0.000000  0.000000  0.0   \n",
       "EWR                  0.000000  0.0  0.0  0.450769  0.164829  0.000000  0.0   \n",
       "IAD                  0.000000  0.0  0.0  0.113077  0.080477  0.381594  0.0   \n",
       "IAH                  0.152809  0.0  0.0  0.017692  0.267362  0.096521  0.0   \n",
       "JFK                  0.000000  0.0  0.0  0.000000  0.000000  0.000000  0.0   \n",
       "LAX                  0.000000  0.0  0.0  0.000000  0.033085  0.000000  0.0   \n",
       "MCO                  0.000000  0.0  0.0  0.000000  0.000000  0.000000  0.0   \n",
       "ORD                  0.065169  1.0  0.3  0.157692  0.154396  0.352413  0.0   \n",
       "PHL                  0.000000  0.0  0.0  0.000000  0.000000  0.000000  0.0   \n",
       "SFO                  0.182022  0.0  0.0  0.020000  0.125484  0.000000  0.0   \n",
       "\n",
       "Destination Airport       BNA  BOI       BOS  ...       SLC       SMF  \\\n",
       "Origin Airport                                ...                       \n",
       "ATL                  0.000000  0.0  0.000000  ...  0.000000  0.000000   \n",
       "DEN                  0.142185  1.0  0.159069  ...  0.444211  0.477376   \n",
       "DFW                  0.000000  0.0  0.000000  ...  0.000000  0.000000   \n",
       "EWR                  0.325800  0.0  0.303894  ...  0.232632  0.113122   \n",
       "IAD                  0.152542  0.0  0.113960  ...  0.000000  0.066365   \n",
       "IAH                  0.105461  0.0  0.110161  ...  0.146316  0.131976   \n",
       "JFK                  0.000000  0.0  0.000000  ...  0.000000  0.000000   \n",
       "LAX                  0.000000  0.0  0.059354  ...  0.000000  0.000000   \n",
       "MCO                  0.000000  0.0  0.000000  ...  0.000000  0.000000   \n",
       "ORD                  0.132768  0.0  0.152659  ...  0.110526  0.211161   \n",
       "PHL                  0.000000  0.0  0.000000  ...  0.000000  0.000000   \n",
       "SFO                  0.141243  0.0  0.100902  ...  0.066316  0.000000   \n",
       "\n",
       "Destination Airport       SNA       SRQ       STL       STT       SYR  \\\n",
       "Origin Airport                                                          \n",
       "ATL                  0.000000  0.000000  0.000000  0.000000  0.000000   \n",
       "DEN                  0.245426  0.226387  0.728045  0.000000  0.321637   \n",
       "DFW                  0.000000  0.000000  0.000000  0.000000  0.000000   \n",
       "EWR                  0.149165  0.434783  0.000000  0.322785  0.002924   \n",
       "IAD                  0.000000  0.002999  0.000000  0.318565  0.359649   \n",
       "IAH                  0.213604  0.000000  0.271955  0.274262  0.000000   \n",
       "JFK                  0.000000  0.000000  0.000000  0.000000  0.000000   \n",
       "LAX                  0.000000  0.000000  0.000000  0.000000  0.000000   \n",
       "MCO                  0.000000  0.000000  0.000000  0.000000  0.000000   \n",
       "ORD                  0.197693  0.335832  0.000000  0.084388  0.315789   \n",
       "PHL                  0.000000  0.000000  0.000000  0.000000  0.000000   \n",
       "SFO                  0.194113  0.000000  0.000000  0.000000  0.000000   \n",
       "\n",
       "Destination Airport       TPA       TUL       TUS  \n",
       "Origin Airport                                     \n",
       "ATL                  0.000000  0.000000  0.000000  \n",
       "DEN                  0.151678  0.477876  0.682353  \n",
       "DFW                  0.000000  0.000000  0.000000  \n",
       "EWR                  0.310604  0.000000  0.000000  \n",
       "IAD                  0.107383  0.000000  0.000000  \n",
       "IAH                  0.171007  0.522124  0.105882  \n",
       "JFK                  0.000000  0.000000  0.000000  \n",
       "LAX                  0.038121  0.000000  0.000000  \n",
       "MCO                  0.000000  0.000000  0.000000  \n",
       "ORD                  0.154631  0.000000  0.211765  \n",
       "PHL                  0.000000  0.000000  0.000000  \n",
       "SFO                  0.066577  0.000000  0.000000  \n",
       "\n",
       "[12 rows x 110 columns]"
      ]
     },
     "execution_count": 14,
     "metadata": {},
     "output_type": "execute_result"
    }
   ],
   "source": [
    "# It is often useful to see the proportions/percentages rather than raw counts\n",
    "pd.crosstab(united_2022['Origin Airport'], united_2022['Destination Airport'], normalize = 'columns')"
   ]
  },
  {
   "cell_type": "markdown",
   "id": "3bf0d749",
   "metadata": {
    "slideshow": {
     "slide_type": "slide"
    }
   },
   "source": [
    "## Data visualization\n",
    "\n",
    "<div style=\"text-align: center;\">\n",
    "    <img width=\"700\" height=\"400\" src=\"imgs/Tufte2001_napoleon.png\">\n",
    "</div>\n",
    "\n",
    "Source: [Tufte (2001)](https://www.edwardtufte.com/tufte/books_vdqi), based on Marey (1885)"
   ]
  },
  {
   "cell_type": "markdown",
   "id": "f3e3ff6c",
   "metadata": {
    "slideshow": {
     "slide_type": "slide"
    }
   },
   "source": [
    "## Data visualization in Python\n",
    "\n",
    "- As with dealing with data, Python has no in-built, 'base' plotting functionality\n",
    "- `matplotlib` has become the one of standard solutions\n",
    "- It is often used [in combination with `pandas`](https://pandas.pydata.org/pandas-docs/stable/user_guide/visualization.html)\n",
    "- Other popular alternative include `seaborn` and `plotnine`\n",
    "- Also `pandas` itself has some limited plotting facilities"
   ]
  },
  {
   "cell_type": "markdown",
   "id": "f90988d8",
   "metadata": {
    "slideshow": {
     "slide_type": "slide"
    }
   },
   "source": [
    "## `plotnine` - `ggplot` for Python\n",
    "\n",
    "- `plotnine` implements Grammar of Graphics data visualisation scheme [(Wilkinson, 2005)](https://doi.org/10.1007/0-387-28695-0)\n",
    "- It mimics the syntax of a well-known R library `ggplot2`syntax [(Wickham, 2010)](https://doi.org/10.1198/jcgs.2009.07098)\n",
    "- In doing so, it makes the code (almost) seamlessly portable between the two languages"
   ]
  },
  {
   "cell_type": "markdown",
   "id": "28ecfc34",
   "metadata": {
    "slideshow": {
     "slide_type": "slide"
    }
   },
   "source": [
    "## Grammar of graphics\n",
    "\n",
    "- Grammar of Graphics is a powerful conceptualization of plotting\n",
    "- Graphs are broken into multiple layers\n",
    "- Layers can be recycled across multiple plots"
   ]
  },
  {
   "cell_type": "markdown",
   "id": "fc764645",
   "metadata": {
    "slideshow": {
     "slide_type": "slide"
    }
   },
   "source": [
    "## Structure of ggplot calls in `plotnine`\n",
    "\n",
    "- Creation of ggplot objects in `plotline` has the following structure:\n",
    "\n",
    "```\n",
    "ggplot(data = <DATA>) +\\\n",
    "    <GEOM_FUNCTION>(mapping = aes(<MAPPINGS>))\n",
    "```\n",
    "\n",
    "- If the *mappings* are re-used across geometric objects (e.g. scatterplot and line):\n",
    "\n",
    "```\n",
    "ggplot(data = <DATA>, mapping = aes(<MAPPINGS>)) +\\\n",
    "    <GEOM_FUNCTION>() +\\\n",
    "    <GEOM_FUNCTION>()\n",
    "```"
   ]
  },
  {
   "cell_type": "markdown",
   "id": "5cdfd83c",
   "metadata": {
    "slideshow": {
     "slide_type": "slide"
    }
   },
   "source": [
    "## Creating a ggplot in `plotnine`"
   ]
  },
  {
   "cell_type": "code",
   "execution_count": 15,
   "id": "21c9f729",
   "metadata": {
    "slideshow": {
     "slide_type": "fragment"
    }
   },
   "outputs": [],
   "source": [
    "from plotnine import *"
   ]
  },
  {
   "cell_type": "code",
   "execution_count": 16,
   "id": "0ceac275",
   "metadata": {
    "slideshow": {
     "slide_type": "fragment"
    }
   },
   "outputs": [
    {
     "data": {
      "image/png": "[encoded data removed]",
      "text/plain": [
       "<Figure size 432x288 with 1 Axes>"
      ]
     },
     "metadata": {},
     "output_type": "display_data"
    },
    {
     "data": {
      "text/plain": [
       "<ggplot: (8785261968216)>"
      ]
     },
     "execution_count": 16,
     "metadata": {},
     "output_type": "execute_result"
    }
   ],
   "source": [
    "origin_plot = ggplot(data = united_2022) + geom_bar(aes(x = 'Origin Airport'))\n",
    "origin_plot"
   ]
  },
  {
   "cell_type": "markdown",
   "id": "d862a353",
   "metadata": {
    "slideshow": {
     "slide_type": "slide"
    }
   },
   "source": [
    "## Compare to base `pandas`"
   ]
  },
  {
   "cell_type": "code",
   "execution_count": 17,
   "id": "4d0a3f35",
   "metadata": {
    "slideshow": {
     "slide_type": "fragment"
    }
   },
   "outputs": [],
   "source": [
    "# First we need to group dataset by 'Origin Airport' and summarize it with `size()`\n",
    "united_2022_origin_grouped = united_2022.groupby(['Origin Airport']).size() "
   ]
  },
  {
   "cell_type": "code",
   "execution_count": 18,
   "id": "cd6abf4f",
   "metadata": {
    "slideshow": {
     "slide_type": "fragment"
    }
   },
   "outputs": [
    {
     "data": {
      "text/plain": [
       "<AxesSubplot:xlabel='Origin Airport'>"
      ]
     },
     "execution_count": 18,
     "metadata": {},
     "output_type": "execute_result"
    },
    {
     "data": {
      "image/png": "[encoded data removed]",
      "text/plain": [
       "<Figure size 640x480 with 1 Axes>"
      ]
     },
     "metadata": {},
     "output_type": "display_data"
    }
   ],
   "source": [
    "united_2022_origin_grouped.plot(kind = 'bar')"
   ]
  },
  {
   "cell_type": "markdown",
   "id": "4888d8d3",
   "metadata": {
    "slideshow": {
     "slide_type": "slide"
    }
   },
   "source": [
    "## Compare to `matplotlib`"
   ]
  },
  {
   "cell_type": "code",
   "execution_count": 19,
   "id": "c99c6605",
   "metadata": {
    "slideshow": {
     "slide_type": "fragment"
    }
   },
   "outputs": [],
   "source": [
    "import matplotlib.pyplot as plt"
   ]
  },
  {
   "cell_type": "code",
   "execution_count": 20,
   "id": "972ec8ef",
   "metadata": {
    "slideshow": {
     "slide_type": "fragment"
    }
   },
   "outputs": [
    {
     "data": {
      "text/plain": [
       "<BarContainer object of 12 artists>"
      ]
     },
     "execution_count": 20,
     "metadata": {},
     "output_type": "execute_result"
    },
    {
     "data": {
      "image/png": "[encoded data removed]",
      "text/plain": [
       "<Figure size 640x480 with 1 Axes>"
      ]
     },
     "metadata": {},
     "output_type": "display_data"
    }
   ],
   "source": [
    "# `matplotlib` is more low-level library\n",
    "# plots would need more work to be 'prettified'\n",
    "plt.bar(x = united_2022_origin_grouped.index, height = united_2022_origin_grouped.values)"
   ]
  },
  {
   "cell_type": "markdown",
   "id": "db19c31f",
   "metadata": {
    "slideshow": {
     "slide_type": "slide"
    }
   },
   "source": [
    "## Prettifying ggplot in `plotnine`"
   ]
  },
  {
   "cell_type": "code",
   "execution_count": 21,
   "id": "2190512c",
   "metadata": {
    "slideshow": {
     "slide_type": "fragment"
    }
   },
   "outputs": [
    {
     "data": {
      "image/png": "[encoded data removed]",
      "text/plain": [
       "<Figure size 640x480 with 1 Axes>"
      ]
     },
     "metadata": {},
     "output_type": "display_data"
    },
    {
     "data": {
      "text/plain": [
       "<ggplot: (8785259675203)>"
      ]
     },
     "execution_count": 21,
     "metadata": {},
     "output_type": "execute_result"
    }
   ],
   "source": [
    "# Here we change default axes' labels and then apply B&W theme\n",
    "origin_plot_pretty = origin_plot +\\\n",
    "    labs(y = 'flights') +\\\n",
    "    theme_bw()\n",
    "origin_plot_pretty"
   ]
  },
  {
   "cell_type": "markdown",
   "id": "40dcece5",
   "metadata": {
    "slideshow": {
     "slide_type": "slide"
    }
   },
   "source": [
    "## Other geometric objects (`geom_`)\n",
    "\n",
    "| Method                       | Description                |\n",
    "|:-----------------------------|:---------------------------|\n",
    "| `geom_bar()`, `geom_col()`   | Bar charts                 |\n",
    "| `geom_boxplot()`             | Box and whisker plot       |\n",
    "| `geom_histogram()`           | Histogram                  |\n",
    "| `geom_point()`               | Scatterplot                |\n",
    "| `geom_line()`, `geom_path()` | Lines                      |\n",
    "| `geom_map()`                 | Geographic areas           |\n",
    "| `geom_smooth()`              | Smoothed conditional means |\n",
    "| `geom_violin()`              | Violin plots               |\n"
   ]
  },
  {
   "cell_type": "markdown",
   "id": "dd46f01f",
   "metadata": {
    "slideshow": {
     "slide_type": "slide"
    }
   },
   "source": [
    "## Writing plots out in `plotnine`\n",
    "\n",
    "- Output format is automatically determined from write-out file extension\n",
    "- Commonly used formats are PDF, PNG and EPS"
   ]
  },
  {
   "cell_type": "code",
   "execution_count": 22,
   "id": "50f3e97a",
   "metadata": {
    "slideshow": {
     "slide_type": "fragment"
    }
   },
   "outputs": [
    {
     "name": "stderr",
     "output_type": "stream",
     "text": [
      "/home/tpaskhalis/Decrypted/Git/DS3/venv/lib/python3.8/site-packages/plotnine/ggplot.py:718: PlotnineWarning: Saving 6.4 x 4.8 in image.\n",
      "/home/tpaskhalis/Decrypted/Git/DS3/venv/lib/python3.8/site-packages/plotnine/ggplot.py:719: PlotnineWarning: Filename: ../temp/q1_plot_pretty.pdf\n"
     ]
    }
   ],
   "source": [
    "origin_plot_pretty.save('../temp/q1_plot_pretty.pdf')"
   ]
  },
  {
   "cell_type": "markdown",
   "id": "38ed0abd",
   "metadata": {
    "slideshow": {
     "slide_type": "slide"
    }
   },
   "source": [
    "## Additional visualization materials\n",
    "\n",
    "Books:\n",
    "\n",
    "- Hieran, Kiely. 2019. *Data Visualization: A Practical Introduction*. Princeton, NJ: Princeton University Press\n",
    "- Tufte, Edward. 2001. *The Visual Display of Quantitative Information*. 2nd ed. Cheshire, CT: Graphics Press\n",
    "\n",
    "Online:\n",
    "\n",
    "- [Plotnine: Grammar of Graphics for Python](https://datascienceworkshops.com/blog/plotnine-grammar-of-graphics-for-python/)\n",
    "- [Plotnine Documentation](https://plotnine.readthedocs.io/en/stable/index.html)\n",
    "- [ggplot2 Documentation](https://ggplot2.tidyverse.org/)"
   ]
  },
  {
   "cell_type": "markdown",
   "id": "b2ffdafa",
   "metadata": {
    "slideshow": {
     "slide_type": "slide"
    }
   },
   "source": [
    "## The end\n",
    "\n",
    "<div style=\"text-align: center;\">\n",
    "    <img width=\"500\" height=\"300\" src=\"imgs/butterfly_meme.jpg\">\n",
    "</div>"
   ]
  }
 ],
 "metadata": {
  "celltoolbar": "Slideshow",
  "kernelspec": {
   "display_name": "Python 3",
   "language": "python",
   "name": "python3"
  },
  "language_info": {
   "codemirror_mode": {
    "name": "ipython",
    "version": 3
   },
   "file_extension": ".py",
   "mimetype": "text/x-python",
   "name": "python",
   "nbconvert_exporter": "python",
   "pygments_lexer": "ipython3",
   "version": "3.8.10"
  }
 },
 "nbformat": 4,
 "nbformat_minor": 5
}
