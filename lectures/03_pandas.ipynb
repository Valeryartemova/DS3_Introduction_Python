{
 "cells": [
  {
   "cell_type": "markdown",
   "id": "8f6c8dc2",
   "metadata": {
    "slideshow": {
     "slide_type": "slide"
    }
   },
   "source": [
    "# Part 3: Pandas and Data I/O\n",
    "\n",
    "## Introduction to Python\n",
    "\n",
    "### Tom Paskhalis\n",
    "\n",
    "##### 2022-07-27\n",
    "\n",
    "##### Data Science Summer School 2022"
   ]
  },
  {
   "cell_type": "markdown",
   "id": "92e6b394",
   "metadata": {
    "slideshow": {
     "slide_type": "slide"
    }
   },
   "source": [
    "## Rectangular data\n",
    "\n",
    "<div style=\"text-align: center;\">\n",
    "    <img width=\"700\" height=\"700\" src=\"./imgs/punchcard.jpg\">\n",
    "</div>\n",
    "\n",
    "History of rectangular data goes back to punchcards with origins in US census data processing.\n",
    "\n",
    "Source: [Wikipedia](https://en.wikipedia.org/wiki/Punched_card) "
   ]
  },
  {
   "cell_type": "markdown",
   "id": "6e61f983",
   "metadata": {
    "slideshow": {
     "slide_type": "slide"
    }
   },
   "source": [
    "## Tidy data\n",
    "\n",
    "- Tidy data is a specific subset of rectangular data, where:\n",
    "    - Each variable is in a column\n",
    "    - Each observation is in a row\n",
    "    - Each value is in a cell\n",
    "\n",
    "<div style=\"text-align: center;\">\n",
    "    <img width=\"700\" height=\"700\" src=\"./imgs/tidy_data.png\">\n",
    "</div>\n",
    "\n",
    "Source: [R for Data Science](https://r4ds.had.co.nz/tidy-data.html) "
   ]
  },
  {
   "cell_type": "markdown",
   "id": "0df582d4",
   "metadata": {
    "slideshow": {
     "slide_type": "slide"
    }
   },
   "source": [
    "## Data in Python\n",
    "\n",
    "- Python can hold and manipulate > 1 dataset at the same time\n",
    "- Python stores objects in memory\n",
    "- The limit on the size of data is determined by your computer memory\n",
    "- Most functionality for dealing with data is provided by external libraries"
   ]
  },
  {
   "cell_type": "markdown",
   "id": "7e5b1eb7",
   "metadata": {
    "slideshow": {
     "slide_type": "slide"
    }
   },
   "source": [
    "## Pandas\n",
    "\n",
    "- Standard Python library does not have data type for tabular data\n",
    "- However, `pandas` library has become the de facto standard for data manipulation\n",
    "- pandas is built upon (and often used in conjuction with) other computational libraries\n",
    "- E.g. `numpy` (array data type), `scipy` (linear algebra) and `scikit-learn` (machine learning)"
   ]
  },
  {
   "cell_type": "code",
   "execution_count": 1,
   "id": "b1d323c4",
   "metadata": {
    "slideshow": {
     "slide_type": "fragment"
    }
   },
   "outputs": [],
   "source": [
    "# Using 'as' allows to avoid typing full name each time the module is referred to\n",
    "import pandas as pd"
   ]
  },
  {
   "cell_type": "markdown",
   "id": "b7985032",
   "metadata": {
    "slideshow": {
     "slide_type": "slide"
    }
   },
   "source": [
    "## Series\n",
    "\n",
    "- *Series* is a one-dimensional array-like object"
   ]
  },
  {
   "cell_type": "code",
   "execution_count": 2,
   "id": "36416a27",
   "metadata": {
    "slideshow": {
     "slide_type": "fragment"
    }
   },
   "outputs": [
    {
     "data": {
      "text/plain": [
       "0     150.0\n",
       "1     120.0\n",
       "2    3000.0\n",
       "dtype: float64"
      ]
     },
     "execution_count": 2,
     "metadata": {},
     "output_type": "execute_result"
    }
   ],
   "source": [
    "sr1 = pd.Series([150.0, 120.0, 3000.0])\n",
    "sr1"
   ]
  },
  {
   "cell_type": "code",
   "execution_count": 3,
   "id": "a5b81214",
   "metadata": {
    "slideshow": {
     "slide_type": "fragment"
    }
   },
   "outputs": [
    {
     "data": {
      "text/plain": [
       "150.0"
      ]
     },
     "execution_count": 3,
     "metadata": {},
     "output_type": "execute_result"
    }
   ],
   "source": [
    "sr1[0] # Slicing is simiar to standard Python objects"
   ]
  },
  {
   "cell_type": "code",
   "execution_count": 4,
   "id": "2f154249",
   "metadata": {
    "slideshow": {
     "slide_type": "fragment"
    }
   },
   "outputs": [
    {
     "data": {
      "text/plain": [
       "2    3000.0\n",
       "dtype: float64"
      ]
     },
     "execution_count": 4,
     "metadata": {},
     "output_type": "execute_result"
    }
   ],
   "source": [
    "sr1[sr1 > 200]"
   ]
  },
  {
   "cell_type": "markdown",
   "id": "eed8bfde",
   "metadata": {
    "slideshow": {
     "slide_type": "slide"
    }
   },
   "source": [
    "## Indexing in Series\n",
    "\n",
    "- Another way to think about Series is as a ordered dictionary"
   ]
  },
  {
   "cell_type": "code",
   "execution_count": 5,
   "id": "f55281b1",
   "metadata": {
    "slideshow": {
     "slide_type": "fragment"
    }
   },
   "outputs": [],
   "source": [
    "d = {'apple': 150.0, 'banana': 120.0, 'watermelon': 3000.0}"
   ]
  },
  {
   "cell_type": "code",
   "execution_count": 6,
   "id": "ef327351",
   "metadata": {
    "slideshow": {
     "slide_type": "fragment"
    }
   },
   "outputs": [
    {
     "data": {
      "text/plain": [
       "apple          150.0\n",
       "banana         120.0\n",
       "watermelon    3000.0\n",
       "dtype: float64"
      ]
     },
     "execution_count": 6,
     "metadata": {},
     "output_type": "execute_result"
    }
   ],
   "source": [
    "sr2 = pd.Series(d)\n",
    "sr2"
   ]
  },
  {
   "cell_type": "code",
   "execution_count": 7,
   "id": "08716e45",
   "metadata": {
    "slideshow": {
     "slide_type": "fragment"
    }
   },
   "outputs": [
    {
     "data": {
      "text/plain": [
       "150.0"
      ]
     },
     "execution_count": 7,
     "metadata": {},
     "output_type": "execute_result"
    }
   ],
   "source": [
    "sr2[0] # Recall that this slicing would be impossible for standard dictionary"
   ]
  },
  {
   "cell_type": "code",
   "execution_count": 8,
   "id": "cbe5b4b4",
   "metadata": {
    "slideshow": {
     "slide_type": "fragment"
    }
   },
   "outputs": [
    {
     "data": {
      "text/plain": [
       "Index(['apple', 'banana', 'watermelon'], dtype='object')"
      ]
     },
     "execution_count": 8,
     "metadata": {},
     "output_type": "execute_result"
    }
   ],
   "source": [
    "sr2.index"
   ]
  },
  {
   "cell_type": "markdown",
   "id": "dbcce734",
   "metadata": {
    "slideshow": {
     "slide_type": "slide"
    }
   },
   "source": [
    "## DataFrame - the workhorse of data analysis\n",
    "\n",
    "- *DataFrame* is a rectangular table of data"
   ]
  },
  {
   "cell_type": "code",
   "execution_count": 9,
   "id": "981a5621",
   "metadata": {
    "slideshow": {
     "slide_type": "fragment"
    }
   },
   "outputs": [
    {
     "data": {
      "text/html": [
       "<div>\n",
       "<style scoped>\n",
       "    .dataframe tbody tr th:only-of-type {\n",
       "        vertical-align: middle;\n",
       "    }\n",
       "\n",
       "    .dataframe tbody tr th {\n",
       "        vertical-align: top;\n",
       "    }\n",
       "\n",
       "    .dataframe thead th {\n",
       "        text-align: right;\n",
       "    }\n",
       "</style>\n",
       "<table border=\"1\" class=\"dataframe\">\n",
       "  <thead>\n",
       "    <tr style=\"text-align: right;\">\n",
       "      <th></th>\n",
       "      <th>fruit</th>\n",
       "      <th>weight</th>\n",
       "      <th>berry</th>\n",
       "    </tr>\n",
       "  </thead>\n",
       "  <tbody>\n",
       "    <tr>\n",
       "      <th>0</th>\n",
       "      <td>apple</td>\n",
       "      <td>150.0</td>\n",
       "      <td>False</td>\n",
       "    </tr>\n",
       "    <tr>\n",
       "      <th>1</th>\n",
       "      <td>banana</td>\n",
       "      <td>120.0</td>\n",
       "      <td>True</td>\n",
       "    </tr>\n",
       "    <tr>\n",
       "      <th>2</th>\n",
       "      <td>watermelon</td>\n",
       "      <td>3000.0</td>\n",
       "      <td>True</td>\n",
       "    </tr>\n",
       "  </tbody>\n",
       "</table>\n",
       "</div>"
      ],
      "text/plain": [
       "        fruit  weight  berry\n",
       "0       apple   150.0  False\n",
       "1      banana   120.0   True\n",
       "2  watermelon  3000.0   True"
      ]
     },
     "execution_count": 9,
     "metadata": {},
     "output_type": "execute_result"
    }
   ],
   "source": [
    "data = {'fruit': ['apple', 'banana', 'watermelon'], # DataFrame can be constructed from\n",
    "        'weight': [150.0, 120.0, 3000.0],           # a dict of equal-length lists/arrays\n",
    "        'berry': [False, True, True]}           \n",
    "df = pd.DataFrame(data)\n",
    "df"
   ]
  },
  {
   "cell_type": "markdown",
   "id": "b1ed6ca8",
   "metadata": {
    "slideshow": {
     "slide_type": "slide"
    }
   },
   "source": [
    "## Indexing in DataFrame\n",
    "\n",
    "- DataFrame has both row and column indices\n",
    "- `DataFrame.loc()` provides method for *label* location\n",
    "- `DataFrame.iloc()` provides method for *index* location"
   ]
  },
  {
   "cell_type": "code",
   "execution_count": 10,
   "id": "04c93d38",
   "metadata": {
    "slideshow": {
     "slide_type": "fragment"
    }
   },
   "outputs": [
    {
     "data": {
      "text/plain": [
       "fruit     apple\n",
       "weight    150.0\n",
       "berry     False\n",
       "Name: 0, dtype: object"
      ]
     },
     "execution_count": 10,
     "metadata": {},
     "output_type": "execute_result"
    }
   ],
   "source": [
    "df.iloc[0] # First row"
   ]
  },
  {
   "cell_type": "code",
   "execution_count": 11,
   "id": "b271a5c7",
   "metadata": {
    "slideshow": {
     "slide_type": "fragment"
    }
   },
   "outputs": [
    {
     "data": {
      "text/plain": [
       "0         apple\n",
       "1        banana\n",
       "2    watermelon\n",
       "Name: fruit, dtype: object"
      ]
     },
     "execution_count": 11,
     "metadata": {},
     "output_type": "execute_result"
    }
   ],
   "source": [
    "df.iloc[:,0] # First column"
   ]
  },
  {
   "cell_type": "markdown",
   "id": "22b83a1c",
   "metadata": {
    "slideshow": {
     "slide_type": "slide"
    }
   },
   "source": [
    "## Summary of indexing in DataFrame\n",
    "\n",
    "| Expression             | Selection Operation                                     |\n",
    "|:-----------------------|:--------------------------------------------------------|\n",
    "| `df[val]`              | Column or sequence of columns +convenience (e.g. slice) |\n",
    "| `df.loc[lab_i]`        | Row or subset of rows by label                          |\n",
    "| `df.loc[:, lab_j]`     | Column or subset of columns by label                    |\n",
    "| `df.loc[lab_i, lab_j]` | Both rows and columns by label                          |\n",
    "| `df.iloc[i]`           | Row or subset of rows by integer position               |\n",
    "| `df.iloc[:, j]`        | Column or subset of columns by integer position         |\n",
    "| `df.iloc[i, j]`        | Both rows and columns by integer position               |\n",
    "| `df.at[lab_i, lab_j]`  | Single scalar value by row and column label             |\n",
    "| `df.iat[i, j]`         | Single scalar value by row and column integer position  |\n",
    "\n",
    "Extra: [Pandas documentation on indexing](https://pandas.pydata.org/pandas-docs/stable/user_guide/indexing.html)"
   ]
  },
  {
   "cell_type": "markdown",
   "id": "f90c99d3",
   "metadata": {
    "slideshow": {
     "slide_type": "slide"
    }
   },
   "source": [
    "## Subsetting in DataFrame"
   ]
  },
  {
   "cell_type": "code",
   "execution_count": 12,
   "id": "79008bf8",
   "metadata": {
    "slideshow": {
     "slide_type": "fragment"
    }
   },
   "outputs": [
    {
     "data": {
      "text/html": [
       "<div>\n",
       "<style scoped>\n",
       "    .dataframe tbody tr th:only-of-type {\n",
       "        vertical-align: middle;\n",
       "    }\n",
       "\n",
       "    .dataframe tbody tr th {\n",
       "        vertical-align: top;\n",
       "    }\n",
       "\n",
       "    .dataframe thead th {\n",
       "        text-align: right;\n",
       "    }\n",
       "</style>\n",
       "<table border=\"1\" class=\"dataframe\">\n",
       "  <thead>\n",
       "    <tr style=\"text-align: right;\">\n",
       "      <th></th>\n",
       "      <th>fruit</th>\n",
       "      <th>weight</th>\n",
       "      <th>berry</th>\n",
       "    </tr>\n",
       "  </thead>\n",
       "  <tbody>\n",
       "    <tr>\n",
       "      <th>0</th>\n",
       "      <td>apple</td>\n",
       "      <td>150.0</td>\n",
       "      <td>False</td>\n",
       "    </tr>\n",
       "    <tr>\n",
       "      <th>1</th>\n",
       "      <td>banana</td>\n",
       "      <td>120.0</td>\n",
       "      <td>True</td>\n",
       "    </tr>\n",
       "  </tbody>\n",
       "</table>\n",
       "</div>"
      ],
      "text/plain": [
       "    fruit  weight  berry\n",
       "0   apple   150.0  False\n",
       "1  banana   120.0   True"
      ]
     },
     "execution_count": 12,
     "metadata": {},
     "output_type": "execute_result"
    }
   ],
   "source": [
    "df.iloc[:2] # Select the first two rows (with convenience shortcut for slicing)"
   ]
  },
  {
   "cell_type": "code",
   "execution_count": 13,
   "id": "52d67759",
   "metadata": {
    "slideshow": {
     "slide_type": "fragment"
    }
   },
   "outputs": [
    {
     "data": {
      "text/html": [
       "<div>\n",
       "<style scoped>\n",
       "    .dataframe tbody tr th:only-of-type {\n",
       "        vertical-align: middle;\n",
       "    }\n",
       "\n",
       "    .dataframe tbody tr th {\n",
       "        vertical-align: top;\n",
       "    }\n",
       "\n",
       "    .dataframe thead th {\n",
       "        text-align: right;\n",
       "    }\n",
       "</style>\n",
       "<table border=\"1\" class=\"dataframe\">\n",
       "  <thead>\n",
       "    <tr style=\"text-align: right;\">\n",
       "      <th></th>\n",
       "      <th>fruit</th>\n",
       "      <th>weight</th>\n",
       "      <th>berry</th>\n",
       "    </tr>\n",
       "  </thead>\n",
       "  <tbody>\n",
       "    <tr>\n",
       "      <th>0</th>\n",
       "      <td>apple</td>\n",
       "      <td>150.0</td>\n",
       "      <td>False</td>\n",
       "    </tr>\n",
       "    <tr>\n",
       "      <th>1</th>\n",
       "      <td>banana</td>\n",
       "      <td>120.0</td>\n",
       "      <td>True</td>\n",
       "    </tr>\n",
       "  </tbody>\n",
       "</table>\n",
       "</div>"
      ],
      "text/plain": [
       "    fruit  weight  berry\n",
       "0   apple   150.0  False\n",
       "1  banana   120.0   True"
      ]
     },
     "execution_count": 13,
     "metadata": {},
     "output_type": "execute_result"
    }
   ],
   "source": [
    "df[:2]  # Shortcut"
   ]
  },
  {
   "cell_type": "code",
   "execution_count": 14,
   "id": "f50778bd",
   "metadata": {
    "slideshow": {
     "slide_type": "fragment"
    }
   },
   "outputs": [
    {
     "data": {
      "text/html": [
       "<div>\n",
       "<style scoped>\n",
       "    .dataframe tbody tr th:only-of-type {\n",
       "        vertical-align: middle;\n",
       "    }\n",
       "\n",
       "    .dataframe tbody tr th {\n",
       "        vertical-align: top;\n",
       "    }\n",
       "\n",
       "    .dataframe thead th {\n",
       "        text-align: right;\n",
       "    }\n",
       "</style>\n",
       "<table border=\"1\" class=\"dataframe\">\n",
       "  <thead>\n",
       "    <tr style=\"text-align: right;\">\n",
       "      <th></th>\n",
       "      <th>fruit</th>\n",
       "      <th>berry</th>\n",
       "    </tr>\n",
       "  </thead>\n",
       "  <tbody>\n",
       "    <tr>\n",
       "      <th>0</th>\n",
       "      <td>apple</td>\n",
       "      <td>False</td>\n",
       "    </tr>\n",
       "    <tr>\n",
       "      <th>1</th>\n",
       "      <td>banana</td>\n",
       "      <td>True</td>\n",
       "    </tr>\n",
       "    <tr>\n",
       "      <th>2</th>\n",
       "      <td>watermelon</td>\n",
       "      <td>True</td>\n",
       "    </tr>\n",
       "  </tbody>\n",
       "</table>\n",
       "</div>"
      ],
      "text/plain": [
       "        fruit  berry\n",
       "0       apple  False\n",
       "1      banana   True\n",
       "2  watermelon   True"
      ]
     },
     "execution_count": 14,
     "metadata": {},
     "output_type": "execute_result"
    }
   ],
   "source": [
    "df.loc[:, ['fruit', 'berry']] # Select the columns 'fruit' and 'berry'"
   ]
  },
  {
   "cell_type": "code",
   "execution_count": 15,
   "id": "83a7166c",
   "metadata": {
    "slideshow": {
     "slide_type": "fragment"
    }
   },
   "outputs": [
    {
     "data": {
      "text/html": [
       "<div>\n",
       "<style scoped>\n",
       "    .dataframe tbody tr th:only-of-type {\n",
       "        vertical-align: middle;\n",
       "    }\n",
       "\n",
       "    .dataframe tbody tr th {\n",
       "        vertical-align: top;\n",
       "    }\n",
       "\n",
       "    .dataframe thead th {\n",
       "        text-align: right;\n",
       "    }\n",
       "</style>\n",
       "<table border=\"1\" class=\"dataframe\">\n",
       "  <thead>\n",
       "    <tr style=\"text-align: right;\">\n",
       "      <th></th>\n",
       "      <th>fruit</th>\n",
       "      <th>berry</th>\n",
       "    </tr>\n",
       "  </thead>\n",
       "  <tbody>\n",
       "    <tr>\n",
       "      <th>0</th>\n",
       "      <td>apple</td>\n",
       "      <td>False</td>\n",
       "    </tr>\n",
       "    <tr>\n",
       "      <th>1</th>\n",
       "      <td>banana</td>\n",
       "      <td>True</td>\n",
       "    </tr>\n",
       "    <tr>\n",
       "      <th>2</th>\n",
       "      <td>watermelon</td>\n",
       "      <td>True</td>\n",
       "    </tr>\n",
       "  </tbody>\n",
       "</table>\n",
       "</div>"
      ],
      "text/plain": [
       "        fruit  berry\n",
       "0       apple  False\n",
       "1      banana   True\n",
       "2  watermelon   True"
      ]
     },
     "execution_count": 15,
     "metadata": {},
     "output_type": "execute_result"
    }
   ],
   "source": [
    "df[['fruit', 'berry']] # Shortcut"
   ]
  },
  {
   "cell_type": "markdown",
   "id": "4e02d724",
   "metadata": {
    "slideshow": {
     "slide_type": "slide"
    }
   },
   "source": [
    "## Columns in DataFrame"
   ]
  },
  {
   "cell_type": "code",
   "execution_count": 16,
   "id": "ab92435a",
   "metadata": {
    "slideshow": {
     "slide_type": "fragment"
    }
   },
   "outputs": [
    {
     "data": {
      "text/plain": [
       "Index(['fruit', 'weight', 'berry'], dtype='object')"
      ]
     },
     "execution_count": 16,
     "metadata": {},
     "output_type": "execute_result"
    }
   ],
   "source": [
    "df.columns # Retrieve the names of all columns"
   ]
  },
  {
   "cell_type": "code",
   "execution_count": 17,
   "id": "6a4ee129",
   "metadata": {
    "slideshow": {
     "slide_type": "fragment"
    }
   },
   "outputs": [
    {
     "data": {
      "text/plain": [
       "'fruit'"
      ]
     },
     "execution_count": 17,
     "metadata": {},
     "output_type": "execute_result"
    }
   ],
   "source": [
    "df.columns[0] # This Index object is subsettable"
   ]
  },
  {
   "cell_type": "code",
   "execution_count": 18,
   "id": "430d8786",
   "metadata": {
    "slideshow": {
     "slide_type": "fragment"
    }
   },
   "outputs": [
    {
     "data": {
      "text/plain": [
       "array([ True, False, False])"
      ]
     },
     "execution_count": 18,
     "metadata": {},
     "output_type": "execute_result"
    }
   ],
   "source": [
    "df.columns.str.startswith('fr') # As column names are strings, we can apply str methods"
   ]
  },
  {
   "cell_type": "code",
   "execution_count": 19,
   "id": "73a7f8a5",
   "metadata": {
    "slideshow": {
     "slide_type": "fragment"
    }
   },
   "outputs": [
    {
     "data": {
      "text/html": [
       "<div>\n",
       "<style scoped>\n",
       "    .dataframe tbody tr th:only-of-type {\n",
       "        vertical-align: middle;\n",
       "    }\n",
       "\n",
       "    .dataframe tbody tr th {\n",
       "        vertical-align: top;\n",
       "    }\n",
       "\n",
       "    .dataframe thead th {\n",
       "        text-align: right;\n",
       "    }\n",
       "</style>\n",
       "<table border=\"1\" class=\"dataframe\">\n",
       "  <thead>\n",
       "    <tr style=\"text-align: right;\">\n",
       "      <th></th>\n",
       "      <th>fruit</th>\n",
       "    </tr>\n",
       "  </thead>\n",
       "  <tbody>\n",
       "    <tr>\n",
       "      <th>0</th>\n",
       "      <td>apple</td>\n",
       "    </tr>\n",
       "    <tr>\n",
       "      <th>1</th>\n",
       "      <td>banana</td>\n",
       "    </tr>\n",
       "    <tr>\n",
       "      <th>2</th>\n",
       "      <td>watermelon</td>\n",
       "    </tr>\n",
       "  </tbody>\n",
       "</table>\n",
       "</div>"
      ],
      "text/plain": [
       "        fruit\n",
       "0       apple\n",
       "1      banana\n",
       "2  watermelon"
      ]
     },
     "execution_count": 19,
     "metadata": {},
     "output_type": "execute_result"
    }
   ],
   "source": [
    "df.iloc[:,df.columns.str.startswith('fr')] # This is helpful with more complicated column selection criteria"
   ]
  },
  {
   "cell_type": "markdown",
   "id": "37f26c55",
   "metadata": {
    "slideshow": {
     "slide_type": "slide"
    }
   },
   "source": [
    "## Filtering DataFrame"
   ]
  },
  {
   "cell_type": "code",
   "execution_count": 20,
   "id": "2b670c07",
   "metadata": {
    "slideshow": {
     "slide_type": "fragment"
    }
   },
   "outputs": [
    {
     "data": {
      "text/html": [
       "<div>\n",
       "<style scoped>\n",
       "    .dataframe tbody tr th:only-of-type {\n",
       "        vertical-align: middle;\n",
       "    }\n",
       "\n",
       "    .dataframe tbody tr th {\n",
       "        vertical-align: top;\n",
       "    }\n",
       "\n",
       "    .dataframe thead th {\n",
       "        text-align: right;\n",
       "    }\n",
       "</style>\n",
       "<table border=\"1\" class=\"dataframe\">\n",
       "  <thead>\n",
       "    <tr style=\"text-align: right;\">\n",
       "      <th></th>\n",
       "      <th>fruit</th>\n",
       "      <th>weight</th>\n",
       "      <th>berry</th>\n",
       "    </tr>\n",
       "  </thead>\n",
       "  <tbody>\n",
       "    <tr>\n",
       "      <th>0</th>\n",
       "      <td>apple</td>\n",
       "      <td>150.0</td>\n",
       "      <td>False</td>\n",
       "    </tr>\n",
       "  </tbody>\n",
       "</table>\n",
       "</div>"
      ],
      "text/plain": [
       "   fruit  weight  berry\n",
       "0  apple   150.0  False"
      ]
     },
     "execution_count": 20,
     "metadata": {},
     "output_type": "execute_result"
    }
   ],
   "source": [
    "df[df.loc[:,'berry'] == False] # Select rows where fruits are not berries"
   ]
  },
  {
   "cell_type": "code",
   "execution_count": 21,
   "id": "8b2388ae",
   "metadata": {
    "slideshow": {
     "slide_type": "fragment"
    }
   },
   "outputs": [
    {
     "data": {
      "text/html": [
       "<div>\n",
       "<style scoped>\n",
       "    .dataframe tbody tr th:only-of-type {\n",
       "        vertical-align: middle;\n",
       "    }\n",
       "\n",
       "    .dataframe tbody tr th {\n",
       "        vertical-align: top;\n",
       "    }\n",
       "\n",
       "    .dataframe thead th {\n",
       "        text-align: right;\n",
       "    }\n",
       "</style>\n",
       "<table border=\"1\" class=\"dataframe\">\n",
       "  <thead>\n",
       "    <tr style=\"text-align: right;\">\n",
       "      <th></th>\n",
       "      <th>fruit</th>\n",
       "      <th>weight</th>\n",
       "      <th>berry</th>\n",
       "    </tr>\n",
       "  </thead>\n",
       "  <tbody>\n",
       "    <tr>\n",
       "      <th>0</th>\n",
       "      <td>apple</td>\n",
       "      <td>150.0</td>\n",
       "      <td>False</td>\n",
       "    </tr>\n",
       "  </tbody>\n",
       "</table>\n",
       "</div>"
      ],
      "text/plain": [
       "   fruit  weight  berry\n",
       "0  apple   150.0  False"
      ]
     },
     "execution_count": 21,
     "metadata": {},
     "output_type": "execute_result"
    }
   ],
   "source": [
    "df[df['berry'] == False] # The same can be achieved with more concise syntax"
   ]
  },
  {
   "cell_type": "code",
   "execution_count": 22,
   "id": "4ce8c635",
   "metadata": {
    "slideshow": {
     "slide_type": "fragment"
    }
   },
   "outputs": [
    {
     "data": {
      "text/html": [
       "<div>\n",
       "<style scoped>\n",
       "    .dataframe tbody tr th:only-of-type {\n",
       "        vertical-align: middle;\n",
       "    }\n",
       "\n",
       "    .dataframe tbody tr th {\n",
       "        vertical-align: top;\n",
       "    }\n",
       "\n",
       "    .dataframe thead th {\n",
       "        text-align: right;\n",
       "    }\n",
       "</style>\n",
       "<table border=\"1\" class=\"dataframe\">\n",
       "  <thead>\n",
       "    <tr style=\"text-align: right;\">\n",
       "      <th></th>\n",
       "      <th>fruit</th>\n",
       "      <th>weight</th>\n",
       "      <th>berry</th>\n",
       "    </tr>\n",
       "  </thead>\n",
       "  <tbody>\n",
       "    <tr>\n",
       "      <th>2</th>\n",
       "      <td>watermelon</td>\n",
       "      <td>3000.0</td>\n",
       "      <td>True</td>\n",
       "    </tr>\n",
       "  </tbody>\n",
       "</table>\n",
       "</div>"
      ],
      "text/plain": [
       "        fruit  weight  berry\n",
       "2  watermelon  3000.0   True"
      ]
     },
     "execution_count": 22,
     "metadata": {},
     "output_type": "execute_result"
    }
   ],
   "source": [
    "weight200 = df[df['weight'] > 200] # Create new dataset with rows where weight is higher than 200\n",
    "weight200"
   ]
  },
  {
   "cell_type": "markdown",
   "id": "0dc228ee",
   "metadata": {
    "slideshow": {
     "slide_type": "slide"
    }
   },
   "source": [
    "## Variable transformation\n",
    "\n",
    "- Lambda functions can be used to transform data with `map()` method"
   ]
  },
  {
   "cell_type": "code",
   "execution_count": 23,
   "id": "0408a40d",
   "metadata": {
    "slideshow": {
     "slide_type": "fragment"
    }
   },
   "outputs": [
    {
     "data": {
      "text/plain": [
       "0         APPLE\n",
       "1        BANANA\n",
       "2    WATERMELON\n",
       "Name: fruit, dtype: object"
      ]
     },
     "execution_count": 23,
     "metadata": {},
     "output_type": "execute_result"
    }
   ],
   "source": [
    "df['fruit'].map(lambda x: x.upper())"
   ]
  },
  {
   "cell_type": "code",
   "execution_count": 24,
   "id": "20f4d4a1",
   "metadata": {
    "slideshow": {
     "slide_type": "fragment"
    }
   },
   "outputs": [],
   "source": [
    "transform = lambda x: x.capitalize()"
   ]
  },
  {
   "cell_type": "code",
   "execution_count": 25,
   "id": "5becfe3e",
   "metadata": {
    "slideshow": {
     "slide_type": "fragment"
    }
   },
   "outputs": [],
   "source": [
    "transformed = df['fruit'].map(transform)"
   ]
  },
  {
   "cell_type": "code",
   "execution_count": 26,
   "id": "f310e225",
   "metadata": {
    "slideshow": {
     "slide_type": "fragment"
    }
   },
   "outputs": [
    {
     "data": {
      "text/plain": [
       "0         Apple\n",
       "1        Banana\n",
       "2    Watermelon\n",
       "Name: fruit, dtype: object"
      ]
     },
     "execution_count": 26,
     "metadata": {},
     "output_type": "execute_result"
    }
   ],
   "source": [
    "transformed"
   ]
  },
  {
   "cell_type": "markdown",
   "id": "416f7743",
   "metadata": {
    "slideshow": {
     "slide_type": "slide"
    }
   },
   "source": [
    "## File object\n",
    "\n",
    "- File object in Python provides the main interface to external files\n",
    "- In contrast to other core types, file objects are created not with a literal,\n",
    "- But with a function, `open()`:\n",
    "\n",
    "```\n",
    "<variable_name> = open(<filepath>, <mode>)\n",
    "```"
   ]
  },
  {
   "cell_type": "markdown",
   "id": "56cb2b3e",
   "metadata": {
    "slideshow": {
     "slide_type": "slide"
    }
   },
   "source": [
    "## Data input and output\n",
    "\n",
    "- Modes of file objects allow to:\n",
    "    - (`r`)ead a file (default)\n",
    "    - (`w`)rite an object to a file\n",
    "    - e(`x`)clusively create, failing if a file exists\n",
    "    - (`a`)ppend to a file\n",
    "- You can `r+` mode if you need to read and write to file"
   ]
  },
  {
   "cell_type": "markdown",
   "id": "cdc07596",
   "metadata": {
    "slideshow": {
     "slide_type": "slide"
    }
   },
   "source": [
    "## Data output example"
   ]
  },
  {
   "cell_type": "code",
   "execution_count": 27,
   "id": "17d8af2b",
   "metadata": {
    "slideshow": {
     "slide_type": "fragment"
    }
   },
   "outputs": [],
   "source": [
    "f = open('../temp/test.txt', 'w') # Create a new file object in write mode"
   ]
  },
  {
   "cell_type": "code",
   "execution_count": 28,
   "id": "dbc38375",
   "metadata": {
    "slideshow": {
     "slide_type": "fragment"
    }
   },
   "outputs": [
    {
     "data": {
      "text/plain": [
       "20"
      ]
     },
     "execution_count": 28,
     "metadata": {},
     "output_type": "execute_result"
    }
   ],
   "source": [
    "f.write('This is a test file.') # Write a string of characters to it"
   ]
  },
  {
   "cell_type": "code",
   "execution_count": 29,
   "id": "aa0cfde4",
   "metadata": {
    "slideshow": {
     "slide_type": "fragment"
    }
   },
   "outputs": [],
   "source": [
    "f.close() # Flush output buffers to disk and close the connection"
   ]
  },
  {
   "cell_type": "markdown",
   "id": "03fde0bf",
   "metadata": {
    "slideshow": {
     "slide_type": "slide"
    }
   },
   "source": [
    "## Data input example\n",
    "\n",
    "- To avoid keeping track of open file connections, `with` statement can be used\n",
    "\n",
    "Extra: [Python documentation on with statement](https://docs.python.org/3.10/reference/compound_stmts.html#with)"
   ]
  },
  {
   "cell_type": "code",
   "execution_count": 30,
   "id": "75419a09",
   "metadata": {
    "slideshow": {
     "slide_type": "fragment"
    }
   },
   "outputs": [],
   "source": [
    "with open('../temp/test.txt', 'r') as f: # Note that we use 'r' mode for reading\n",
    "    text = f.read()"
   ]
  },
  {
   "cell_type": "code",
   "execution_count": 31,
   "id": "845b832f",
   "metadata": {
    "slideshow": {
     "slide_type": "fragment"
    }
   },
   "outputs": [
    {
     "data": {
      "text/plain": [
       "'This is a test file.'"
      ]
     },
     "execution_count": 31,
     "metadata": {},
     "output_type": "execute_result"
    }
   ],
   "source": [
    "text"
   ]
  },
  {
   "cell_type": "markdown",
   "id": "33885b2f",
   "metadata": {
    "slideshow": {
     "slide_type": "slide"
    }
   },
   "source": [
    "## Reading and writing data in `pandas`\n",
    "\n",
    "- `pandas` provides high-level methods that takes care of file connections\n",
    "- These methods all follow the same `read_<format>` and `to_<format>` name patterns\n",
    "- CSV (comma-separated value) files are the standard of interoperability\n",
    "\n",
    "```\n",
    "<variable_name> = pd.read_<format>(<filepath>)\n",
    "```\n",
    "\n",
    "```\n",
    "<variable_name>.to_<format>(<filepath>)\n",
    "```"
   ]
  },
  {
   "cell_type": "markdown",
   "id": "b4b3ddeb",
   "metadata": {
    "slideshow": {
     "slide_type": "slide"
    }
   },
   "source": [
    "## Flights statistics\n",
    "\n",
    "<table>\n",
    "    <tr>\n",
    "        <td><img width=\"500\" height=\"400\" src='imgs/united_breaks.png'></td>\n",
    "        <td><img width=\"500\" height=\"400\" src='imgs/bts.png'></td>\n",
    "    </tr>\n",
    "</table>\n",
    "\n",
    "Source: [YouTube](https://www.youtube.com/watch?v=5YGc4zOqozo), [Bureau of Transportation](https://transtats.bts.gov/ONTIME/Departures.aspx)"
   ]
  },
  {
   "cell_type": "markdown",
   "id": "e2de9155",
   "metadata": {
    "slideshow": {
     "slide_type": "slide"
    }
   },
   "source": [
    "## Reading data in `pandas` example\n",
    "\n",
    "- We will use the data from [Bureau of Transportation](https://transtats.bts.gov/ONTIME/Departures.aspx)\n",
    "- Domestic departures from major US airports for United Airlines\n",
    "- Between 1 January and 31 May 2022"
   ]
  },
  {
   "cell_type": "code",
   "execution_count": 32,
   "id": "58f68c1a",
   "metadata": {
    "slideshow": {
     "slide_type": "fragment"
    }
   },
   "outputs": [],
   "source": [
    "united_2022 = pd.read_csv('../data/united_2022.csv')"
   ]
  },
  {
   "cell_type": "markdown",
   "id": "e61f0d51",
   "metadata": {
    "slideshow": {
     "slide_type": "slide"
    }
   },
   "source": [
    "## Basic DataFrame info"
   ]
  },
  {
   "cell_type": "code",
   "execution_count": 33,
   "id": "bef0f82b",
   "metadata": {},
   "outputs": [
    {
     "data": {
      "text/plain": [
       "2"
      ]
     },
     "execution_count": 33,
     "metadata": {},
     "output_type": "execute_result"
    }
   ],
   "source": [
    "# Data dimensionality, 2d for tabular\n",
    "united_2022.ndim"
   ]
  },
  {
   "cell_type": "code",
   "execution_count": 34,
   "id": "22c2e238",
   "metadata": {
    "slideshow": {
     "slide_type": "fragment"
    }
   },
   "outputs": [
    {
     "data": {
      "text/plain": [
       "(154575, 18)"
      ]
     },
     "execution_count": 34,
     "metadata": {},
     "output_type": "execute_result"
    }
   ],
   "source": [
    "# Size of each dimension (analogous to R's dim())\n",
    "# (n_rows, n_columns)\n",
    "united_2022.shape"
   ]
  },
  {
   "cell_type": "code",
   "execution_count": 35,
   "id": "83b73063",
   "metadata": {
    "slideshow": {
     "slide_type": "fragment"
    }
   },
   "outputs": [
    {
     "data": {
      "text/plain": [
       "2782350"
      ]
     },
     "execution_count": 35,
     "metadata": {},
     "output_type": "execute_result"
    }
   ],
   "source": [
    "# Total number of cells (n_rows * n_columns)\n",
    "united_2022.size"
   ]
  },
  {
   "cell_type": "markdown",
   "id": "988c5e31",
   "metadata": {
    "slideshow": {
     "slide_type": "slide"
    }
   },
   "source": [
    "## Visual data inspection"
   ]
  },
  {
   "cell_type": "code",
   "execution_count": 36,
   "id": "cee409f4",
   "metadata": {
    "scrolled": true,
    "slideshow": {
     "slide_type": "fragment"
    }
   },
   "outputs": [
    {
     "data": {
      "text/html": [
       "<div>\n",
       "<style scoped>\n",
       "    .dataframe tbody tr th:only-of-type {\n",
       "        vertical-align: middle;\n",
       "    }\n",
       "\n",
       "    .dataframe tbody tr th {\n",
       "        vertical-align: top;\n",
       "    }\n",
       "\n",
       "    .dataframe thead th {\n",
       "        text-align: right;\n",
       "    }\n",
       "</style>\n",
       "<table border=\"1\" class=\"dataframe\">\n",
       "  <thead>\n",
       "    <tr style=\"text-align: right;\">\n",
       "      <th></th>\n",
       "      <th>Carrier Code</th>\n",
       "      <th>Date (MM/DD/YYYY)</th>\n",
       "      <th>Flight Number</th>\n",
       "      <th>Tail Number</th>\n",
       "      <th>Origin Airport</th>\n",
       "      <th>Destination Airport</th>\n",
       "      <th>Scheduled departure time</th>\n",
       "      <th>Actual departure time</th>\n",
       "      <th>Scheduled elapsed time (Minutes)</th>\n",
       "      <th>Actual elapsed time (Minutes)</th>\n",
       "      <th>Departure delay (Minutes)</th>\n",
       "      <th>Wheels-off time</th>\n",
       "      <th>Taxi-Out time (Minutes)</th>\n",
       "      <th>Delay Carrier (Minutes)</th>\n",
       "      <th>Delay Weather (Minutes)</th>\n",
       "      <th>Delay National Aviation System (Minutes)</th>\n",
       "      <th>Delay Security (Minutes)</th>\n",
       "      <th>Delay Late Aircraft Arrival (Minutes)</th>\n",
       "    </tr>\n",
       "  </thead>\n",
       "  <tbody>\n",
       "    <tr>\n",
       "      <th>0</th>\n",
       "      <td>UA</td>\n",
       "      <td>01/01/2022</td>\n",
       "      <td>225</td>\n",
       "      <td>N488UA</td>\n",
       "      <td>ATL</td>\n",
       "      <td>DEN</td>\n",
       "      <td>16:15:00</td>\n",
       "      <td>17:23:00</td>\n",
       "      <td>211</td>\n",
       "      <td>240</td>\n",
       "      <td>68</td>\n",
       "      <td>17:35:00</td>\n",
       "      <td>12</td>\n",
       "      <td>0</td>\n",
       "      <td>0</td>\n",
       "      <td>29</td>\n",
       "      <td>0</td>\n",
       "      <td>68</td>\n",
       "    </tr>\n",
       "    <tr>\n",
       "      <th>1</th>\n",
       "      <td>UA</td>\n",
       "      <td>01/01/2022</td>\n",
       "      <td>282</td>\n",
       "      <td>N447UA</td>\n",
       "      <td>ATL</td>\n",
       "      <td>IAH</td>\n",
       "      <td>19:00:00</td>\n",
       "      <td>19:02:00</td>\n",
       "      <td>138</td>\n",
       "      <td>126</td>\n",
       "      <td>2</td>\n",
       "      <td>19:15:00</td>\n",
       "      <td>13</td>\n",
       "      <td>0</td>\n",
       "      <td>0</td>\n",
       "      <td>0</td>\n",
       "      <td>0</td>\n",
       "      <td>0</td>\n",
       "    </tr>\n",
       "    <tr>\n",
       "      <th>2</th>\n",
       "      <td>UA</td>\n",
       "      <td>01/01/2022</td>\n",
       "      <td>340</td>\n",
       "      <td>N809UA</td>\n",
       "      <td>ATL</td>\n",
       "      <td>DEN</td>\n",
       "      <td>08:20:00</td>\n",
       "      <td>08:17:00</td>\n",
       "      <td>211</td>\n",
       "      <td>283</td>\n",
       "      <td>-3</td>\n",
       "      <td>08:33:00</td>\n",
       "      <td>16</td>\n",
       "      <td>0</td>\n",
       "      <td>0</td>\n",
       "      <td>69</td>\n",
       "      <td>0</td>\n",
       "      <td>0</td>\n",
       "    </tr>\n",
       "    <tr>\n",
       "      <th>3</th>\n",
       "      <td>UA</td>\n",
       "      <td>01/02/2022</td>\n",
       "      <td>225</td>\n",
       "      <td>N463UA</td>\n",
       "      <td>ATL</td>\n",
       "      <td>DEN</td>\n",
       "      <td>16:15:00</td>\n",
       "      <td>16:36:00</td>\n",
       "      <td>211</td>\n",
       "      <td>193</td>\n",
       "      <td>21</td>\n",
       "      <td>16:48:00</td>\n",
       "      <td>12</td>\n",
       "      <td>0</td>\n",
       "      <td>0</td>\n",
       "      <td>0</td>\n",
       "      <td>0</td>\n",
       "      <td>0</td>\n",
       "    </tr>\n",
       "    <tr>\n",
       "      <th>4</th>\n",
       "      <td>UA</td>\n",
       "      <td>01/02/2022</td>\n",
       "      <td>282</td>\n",
       "      <td>N63899</td>\n",
       "      <td>ATL</td>\n",
       "      <td>IAH</td>\n",
       "      <td>19:00:00</td>\n",
       "      <td>18:54:00</td>\n",
       "      <td>138</td>\n",
       "      <td>129</td>\n",
       "      <td>-6</td>\n",
       "      <td>19:07:00</td>\n",
       "      <td>13</td>\n",
       "      <td>0</td>\n",
       "      <td>0</td>\n",
       "      <td>0</td>\n",
       "      <td>0</td>\n",
       "      <td>0</td>\n",
       "    </tr>\n",
       "  </tbody>\n",
       "</table>\n",
       "</div>"
      ],
      "text/plain": [
       "  Carrier Code Date (MM/DD/YYYY)  Flight Number Tail Number Origin Airport  \\\n",
       "0           UA        01/01/2022            225      N488UA            ATL   \n",
       "1           UA        01/01/2022            282      N447UA            ATL   \n",
       "2           UA        01/01/2022            340      N809UA            ATL   \n",
       "3           UA        01/02/2022            225      N463UA            ATL   \n",
       "4           UA        01/02/2022            282      N63899            ATL   \n",
       "\n",
       "  Destination Airport Scheduled departure time Actual departure time  \\\n",
       "0                 DEN                 16:15:00              17:23:00   \n",
       "1                 IAH                 19:00:00              19:02:00   \n",
       "2                 DEN                 08:20:00              08:17:00   \n",
       "3                 DEN                 16:15:00              16:36:00   \n",
       "4                 IAH                 19:00:00              18:54:00   \n",
       "\n",
       "   Scheduled elapsed time (Minutes)  Actual elapsed time (Minutes)  \\\n",
       "0                               211                            240   \n",
       "1                               138                            126   \n",
       "2                               211                            283   \n",
       "3                               211                            193   \n",
       "4                               138                            129   \n",
       "\n",
       "   Departure delay (Minutes) Wheels-off time  Taxi-Out time (Minutes)  \\\n",
       "0                         68        17:35:00                       12   \n",
       "1                          2        19:15:00                       13   \n",
       "2                         -3        08:33:00                       16   \n",
       "3                         21        16:48:00                       12   \n",
       "4                         -6        19:07:00                       13   \n",
       "\n",
       "   Delay Carrier (Minutes)  Delay Weather (Minutes)  \\\n",
       "0                        0                        0   \n",
       "1                        0                        0   \n",
       "2                        0                        0   \n",
       "3                        0                        0   \n",
       "4                        0                        0   \n",
       "\n",
       "   Delay National Aviation System (Minutes)  Delay Security (Minutes)  \\\n",
       "0                                        29                         0   \n",
       "1                                         0                         0   \n",
       "2                                        69                         0   \n",
       "3                                         0                         0   \n",
       "4                                         0                         0   \n",
       "\n",
       "   Delay Late Aircraft Arrival (Minutes)  \n",
       "0                                     68  \n",
       "1                                      0  \n",
       "2                                      0  \n",
       "3                                      0  \n",
       "4                                      0  "
      ]
     },
     "execution_count": 36,
     "metadata": {},
     "output_type": "execute_result"
    }
   ],
   "source": [
    "united_2022.head() # Returns the top n (n=5 default) rows"
   ]
  },
  {
   "cell_type": "markdown",
   "id": "cf69bf51",
   "metadata": {
    "slideshow": {
     "slide_type": "slide"
    }
   },
   "source": [
    "## Visual data inspection continued"
   ]
  },
  {
   "cell_type": "code",
   "execution_count": 37,
   "id": "3fb006bd",
   "metadata": {
    "slideshow": {
     "slide_type": "fragment"
    }
   },
   "outputs": [
    {
     "data": {
      "text/html": [
       "<div>\n",
       "<style scoped>\n",
       "    .dataframe tbody tr th:only-of-type {\n",
       "        vertical-align: middle;\n",
       "    }\n",
       "\n",
       "    .dataframe tbody tr th {\n",
       "        vertical-align: top;\n",
       "    }\n",
       "\n",
       "    .dataframe thead th {\n",
       "        text-align: right;\n",
       "    }\n",
       "</style>\n",
       "<table border=\"1\" class=\"dataframe\">\n",
       "  <thead>\n",
       "    <tr style=\"text-align: right;\">\n",
       "      <th></th>\n",
       "      <th>Carrier Code</th>\n",
       "      <th>Date (MM/DD/YYYY)</th>\n",
       "      <th>Flight Number</th>\n",
       "      <th>Tail Number</th>\n",
       "      <th>Origin Airport</th>\n",
       "      <th>Destination Airport</th>\n",
       "      <th>Scheduled departure time</th>\n",
       "      <th>Actual departure time</th>\n",
       "      <th>Scheduled elapsed time (Minutes)</th>\n",
       "      <th>Actual elapsed time (Minutes)</th>\n",
       "      <th>Departure delay (Minutes)</th>\n",
       "      <th>Wheels-off time</th>\n",
       "      <th>Taxi-Out time (Minutes)</th>\n",
       "      <th>Delay Carrier (Minutes)</th>\n",
       "      <th>Delay Weather (Minutes)</th>\n",
       "      <th>Delay National Aviation System (Minutes)</th>\n",
       "      <th>Delay Security (Minutes)</th>\n",
       "      <th>Delay Late Aircraft Arrival (Minutes)</th>\n",
       "    </tr>\n",
       "  </thead>\n",
       "  <tbody>\n",
       "    <tr>\n",
       "      <th>154570</th>\n",
       "      <td>UA</td>\n",
       "      <td>05/31/2022</td>\n",
       "      <td>2652</td>\n",
       "      <td>N47524</td>\n",
       "      <td>SFO</td>\n",
       "      <td>BOS</td>\n",
       "      <td>13:25:00</td>\n",
       "      <td>13:19:00</td>\n",
       "      <td>354</td>\n",
       "      <td>318</td>\n",
       "      <td>-6</td>\n",
       "      <td>13:38:00</td>\n",
       "      <td>19</td>\n",
       "      <td>0</td>\n",
       "      <td>0</td>\n",
       "      <td>0</td>\n",
       "      <td>0</td>\n",
       "      <td>0</td>\n",
       "    </tr>\n",
       "    <tr>\n",
       "      <th>154571</th>\n",
       "      <td>UA</td>\n",
       "      <td>05/31/2022</td>\n",
       "      <td>2655</td>\n",
       "      <td>N15969</td>\n",
       "      <td>SFO</td>\n",
       "      <td>EWR</td>\n",
       "      <td>08:50:00</td>\n",
       "      <td>10:19:00</td>\n",
       "      <td>327</td>\n",
       "      <td>343</td>\n",
       "      <td>89</td>\n",
       "      <td>10:37:00</td>\n",
       "      <td>18</td>\n",
       "      <td>89</td>\n",
       "      <td>0</td>\n",
       "      <td>16</td>\n",
       "      <td>0</td>\n",
       "      <td>0</td>\n",
       "    </tr>\n",
       "    <tr>\n",
       "      <th>154572</th>\n",
       "      <td>UA</td>\n",
       "      <td>05/31/2022</td>\n",
       "      <td>2657</td>\n",
       "      <td>N77431</td>\n",
       "      <td>SFO</td>\n",
       "      <td>PHX</td>\n",
       "      <td>19:00:00</td>\n",
       "      <td>18:52:00</td>\n",
       "      <td>119</td>\n",
       "      <td>115</td>\n",
       "      <td>-8</td>\n",
       "      <td>19:09:00</td>\n",
       "      <td>17</td>\n",
       "      <td>0</td>\n",
       "      <td>0</td>\n",
       "      <td>0</td>\n",
       "      <td>0</td>\n",
       "      <td>0</td>\n",
       "    </tr>\n",
       "    <tr>\n",
       "      <th>154573</th>\n",
       "      <td>UA</td>\n",
       "      <td>05/31/2022</td>\n",
       "      <td>2669</td>\n",
       "      <td>N76523</td>\n",
       "      <td>SFO</td>\n",
       "      <td>SAN</td>\n",
       "      <td>10:54:00</td>\n",
       "      <td>10:57:00</td>\n",
       "      <td>101</td>\n",
       "      <td>85</td>\n",
       "      <td>3</td>\n",
       "      <td>11:11:00</td>\n",
       "      <td>14</td>\n",
       "      <td>0</td>\n",
       "      <td>0</td>\n",
       "      <td>0</td>\n",
       "      <td>0</td>\n",
       "      <td>0</td>\n",
       "    </tr>\n",
       "    <tr>\n",
       "      <th>154574</th>\n",
       "      <td>UA</td>\n",
       "      <td>05/31/2022</td>\n",
       "      <td>2670</td>\n",
       "      <td>N37253</td>\n",
       "      <td>SFO</td>\n",
       "      <td>TPA</td>\n",
       "      <td>09:59:00</td>\n",
       "      <td>09:52:00</td>\n",
       "      <td>310</td>\n",
       "      <td>305</td>\n",
       "      <td>-7</td>\n",
       "      <td>10:08:00</td>\n",
       "      <td>16</td>\n",
       "      <td>0</td>\n",
       "      <td>0</td>\n",
       "      <td>0</td>\n",
       "      <td>0</td>\n",
       "      <td>0</td>\n",
       "    </tr>\n",
       "  </tbody>\n",
       "</table>\n",
       "</div>"
      ],
      "text/plain": [
       "       Carrier Code Date (MM/DD/YYYY)  Flight Number Tail Number  \\\n",
       "154570           UA        05/31/2022           2652      N47524   \n",
       "154571           UA        05/31/2022           2655      N15969   \n",
       "154572           UA        05/31/2022           2657      N77431   \n",
       "154573           UA        05/31/2022           2669      N76523   \n",
       "154574           UA        05/31/2022           2670      N37253   \n",
       "\n",
       "       Origin Airport Destination Airport Scheduled departure time  \\\n",
       "154570            SFO                 BOS                 13:25:00   \n",
       "154571            SFO                 EWR                 08:50:00   \n",
       "154572            SFO                 PHX                 19:00:00   \n",
       "154573            SFO                 SAN                 10:54:00   \n",
       "154574            SFO                 TPA                 09:59:00   \n",
       "\n",
       "       Actual departure time  Scheduled elapsed time (Minutes)  \\\n",
       "154570              13:19:00                               354   \n",
       "154571              10:19:00                               327   \n",
       "154572              18:52:00                               119   \n",
       "154573              10:57:00                               101   \n",
       "154574              09:52:00                               310   \n",
       "\n",
       "        Actual elapsed time (Minutes)  Departure delay (Minutes)  \\\n",
       "154570                            318                         -6   \n",
       "154571                            343                         89   \n",
       "154572                            115                         -8   \n",
       "154573                             85                          3   \n",
       "154574                            305                         -7   \n",
       "\n",
       "       Wheels-off time  Taxi-Out time (Minutes)  Delay Carrier (Minutes)  \\\n",
       "154570        13:38:00                       19                        0   \n",
       "154571        10:37:00                       18                       89   \n",
       "154572        19:09:00                       17                        0   \n",
       "154573        11:11:00                       14                        0   \n",
       "154574        10:08:00                       16                        0   \n",
       "\n",
       "        Delay Weather (Minutes)  Delay National Aviation System (Minutes)  \\\n",
       "154570                        0                                         0   \n",
       "154571                        0                                        16   \n",
       "154572                        0                                         0   \n",
       "154573                        0                                         0   \n",
       "154574                        0                                         0   \n",
       "\n",
       "        Delay Security (Minutes)  Delay Late Aircraft Arrival (Minutes)  \n",
       "154570                         0                                      0  \n",
       "154571                         0                                      0  \n",
       "154572                         0                                      0  \n",
       "154573                         0                                      0  \n",
       "154574                         0                                      0  "
      ]
     },
     "execution_count": 37,
     "metadata": {},
     "output_type": "execute_result"
    }
   ],
   "source": [
    "united_2022.tail() # Returns the bottom n (n=5 default) rows"
   ]
  },
  {
   "cell_type": "markdown",
   "id": "09ad7c0d",
   "metadata": {
    "slideshow": {
     "slide_type": "slide"
    }
   },
   "source": [
    "## Reading in other (non-`.csv`) data files\n",
    "\n",
    "- Pandas can read in file other than `.csv` (comma-separated value)\n",
    "- Common cases include STATA `.dta`, SPSS `.sav` and SAS `.sas`\n",
    "- Use `pd.read_stata(path)`, `pd.read_spss(path)` and `pd.read_sas(path)`\n",
    "- Check [here](https://pandas.pydata.org/docs/getting_started/intro_tutorials/02_read_write.html) for more examples"
   ]
  },
  {
   "cell_type": "markdown",
   "id": "d2893a52",
   "metadata": {
    "slideshow": {
     "slide_type": "slide"
    }
   },
   "source": [
    "## Writing data out in `pandas`\n",
    "\n",
    "- Note that when writing data out we start with the object name storing the dataset\n",
    "- I.e. `df.to_csv(path)` as opposed to `df = pd.read_csv(path)`\n",
    "- Pandas can also write out into other data formats\n",
    "- E.g. `df.to_excel(path)`, `df.to_stata(path)`"
   ]
  },
  {
   "cell_type": "code",
   "execution_count": 38,
   "id": "a6612a6a",
   "metadata": {
    "slideshow": {
     "slide_type": "fragment"
    }
   },
   "outputs": [],
   "source": [
    "united_2022.to_csv('../temp/united_2022.csv')"
   ]
  },
  {
   "cell_type": "markdown",
   "id": "a80ebd4a",
   "metadata": {
    "slideshow": {
     "slide_type": "slide"
    }
   },
   "source": [
    "## Additional pandas materials\n",
    "\n",
    "Books:\n",
    "\n",
    "- McKinney, Wes. 2017. *Python for Data Analysis: Data Wrangling with Pandas, NumPy, and IPython*. 2nd ed. Sebastopol, CA: O'Reilly Media \n",
    "  \n",
    "  **From the original author of the library!**\n",
    "\n",
    "Online:\n",
    "\n",
    "- [Pandas Getting Started Tutorials](https://pandas.pydata.org/docs/getting_started/intro_tutorials/index.html)\n",
    "- [Pandas Documentation](https://pandas.pydata.org/docs/reference/index.html) (intermediate and advanced)"
   ]
  },
  {
   "cell_type": "markdown",
   "id": "af10a8bb",
   "metadata": {
    "slideshow": {
     "slide_type": "slide"
    }
   },
   "source": [
    "## Next\n",
    "\n",
    "- Exploratory data analysis\n",
    "- Data visualization"
   ]
  }
 ],
 "metadata": {
  "celltoolbar": "Slideshow",
  "kernelspec": {
   "display_name": "Python 3",
   "language": "python",
   "name": "python3"
  },
  "language_info": {
   "codemirror_mode": {
    "name": "ipython",
    "version": 3
   },
   "file_extension": ".py",
   "mimetype": "text/x-python",
   "name": "python",
   "nbconvert_exporter": "python",
   "pygments_lexer": "ipython3",
   "version": "3.8.10"
  }
 },
 "nbformat": 4,
 "nbformat_minor": 5
}
